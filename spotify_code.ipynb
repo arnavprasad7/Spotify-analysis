{
 "metadata": {
  "language_info": {
   "codemirror_mode": {
    "name": "ipython",
    "version": 3
   },
   "file_extension": ".py",
   "mimetype": "text/x-python",
   "name": "python",
   "nbconvert_exporter": "python",
   "pygments_lexer": "ipython3",
   "version": "3.8.3-final"
  },
  "orig_nbformat": 2,
  "kernelspec": {
   "name": "python3",
   "display_name": "Python 3"
  }
 },
 "nbformat": 4,
 "nbformat_minor": 2,
 "cells": [
  {
   "cell_type": "code",
   "execution_count": 1,
   "metadata": {},
   "outputs": [],
   "source": [
    "import spotipy\n",
    "from spotipy.oauth2 import SpotifyOAuth\n",
    "import spotipy.util as util\n",
    "import pandas as pd\n",
    "import matplotlib.pyplot as plt\n",
    "import seaborn as sns\n",
    "sns.set()"
   ]
  },
  {
   "cell_type": "code",
   "execution_count": 2,
   "metadata": {},
   "outputs": [],
   "source": [
    "scope = \"user-top-read\" #define your desired goal\n",
    "username = \"arnav7\"\n",
    "client_id=\"1ef0a322e0d340a89e4225bf2139ccc3\"\n",
    "client_secret = \"5d6a540cd8a64ad0bb0d1708584df8ae\"\n",
    "redirect_uri = \"http://localhost:7777/callback\""
   ]
  },
  {
   "cell_type": "code",
   "execution_count": 3,
   "metadata": {},
   "outputs": [],
   "source": [
    "token = util.prompt_for_user_token(username=username, \n",
    "                                   scope=scope, \n",
    "                                   client_id=client_id,   \n",
    "                                   client_secret=client_secret,     \n",
    "                                   redirect_uri=redirect_uri)"
   ]
  },
  {
   "cell_type": "code",
   "execution_count": 4,
   "metadata": {},
   "outputs": [],
   "source": [
    "sp = spotipy.Spotify(auth=token)"
   ]
  },
  {
   "cell_type": "code",
   "execution_count": 5,
   "metadata": {},
   "outputs": [
    {
     "output_type": "stream",
     "name": "stdout",
     "text": [
      "short_term\n",
      "\n",
      "1 Does It Make You Feel Good? // Joesef\n",
      "2 Out Of My Head // Mac DeMarco\n",
      "3 I Wonder Why // Joesef\n",
      "4 Karma Police // Scary Pockets\n",
      "5 Something // Vulfpeck\n",
      "6 With Love To An Ex (feat. Moonchild Sanelly) // Gorillaz\n",
      "7 The Recipe // SiR\n",
      "8 New York, New York (Live) // Jon Batiste\n",
      "9 MLS (feat. JPEGMAFIA and CHAI) // Gorillaz\n",
      "10 Old Fashioned // Bruno Major\n",
      "\n",
      "\n",
      "medium_term\n",
      "\n",
      "1 Herside Story // GoldLink\n",
      "2 Tribe (with J. Cole) // Bas\n",
      "3 If You’re Too Shy (Let Me Know) // The 1975\n",
      "4 Sunblind // Fleet Foxes\n",
      "5 The Tracks Of My Tears // Smokey Robinson & The Miracles\n",
      "6 Great Dane - Radio Edit // Cosmo Pyke\n",
      "7 The Recipe // SiR\n",
      "8 CUT EM IN (feat. Rick Ross) // Anderson .Paak\n",
      "9 Does It Make You Feel Good? // Joesef\n",
      "10 Out Of My Head // Mac DeMarco\n",
      "\n",
      "\n",
      "long_term\n",
      "\n",
      "1 Freaking Out the Neighborhood // Mac DeMarco\n",
      "2 If I Ever Get Around To Living // John Mayer\n",
      "3 Still Beating // Mac DeMarco\n",
      "4 Waitin' On The Day // John Mayer\n",
      "5 SUGAR // BROCKHAMPTON\n",
      "6 My 1-Bedroom // Theo Katzman\n",
      "7 What Did You Mean (When You Said Love) // Theo Katzman\n",
      "8 Love Is a Beautiful Thing // Vulfpeck\n",
      "9 Called To Tell You // Theo Katzman\n",
      "10 Back Pocket // Vulfpeck\n",
      "\n",
      "\n"
     ]
    }
   ],
   "source": [
    "ranges = [\"short_term\", \"medium_term\", \"long_term\"]\n",
    "\n",
    "for sp_range in ranges:\n",
    "    print(sp_range + \"\\n\")\n",
    "    results = sp.current_user_top_tracks(time_range=sp_range, limit=10)\n",
    "    for i, item in enumerate(results[\"items\"]):\n",
    "        print(str(i+1) + \" \" + item[\"name\"] + \" // \" + item[\"artists\"][0][\"name\"])\n",
    "    print(\"\\n\")\n"
   ]
  },
  {
   "cell_type": "code",
   "execution_count": 6,
   "metadata": {},
   "outputs": [],
   "source": [
    "alltime = sp.current_user_top_tracks(time_range=\"long_term\", limit=50)[\"items\"]"
   ]
  },
  {
   "cell_type": "code",
   "execution_count": 13,
   "metadata": {},
   "outputs": [],
   "source": [
    "df = pd.DataFrame({\"Track name\":[], \"Track ID\":[], \"popularity\":[]})"
   ]
  },
  {
   "cell_type": "code",
   "execution_count": 14,
   "metadata": {},
   "outputs": [
    {
     "output_type": "execute_result",
     "data": {
      "text/plain": [
       "dict_keys(['album', 'artists', 'available_markets', 'disc_number', 'duration_ms', 'explicit', 'external_ids', 'external_urls', 'href', 'id', 'is_local', 'name', 'popularity', 'preview_url', 'track_number', 'type', 'uri'])"
      ]
     },
     "metadata": {},
     "execution_count": 14
    }
   ],
   "source": [
    "alltime[0].keys()"
   ]
  },
  {
   "cell_type": "code",
   "execution_count": 15,
   "metadata": {},
   "outputs": [],
   "source": [
    "for i, track in enumerate(alltime):\n",
    "    df.loc[i] = [track[\"name\"], track[\"id\"], track[\"popularity\"]]"
   ]
  },
  {
   "cell_type": "code",
   "execution_count": 16,
   "metadata": {},
   "outputs": [
    {
     "output_type": "execute_result",
     "data": {
      "text/plain": [
       "                       Track name                Track ID  popularity\n",
       "0   Freaking Out the Neighborhood  25SJaCCPiosugnlY53VhRG        73.0\n",
       "1  If I Ever Get Around To Living  6Oi3mUl8WwfTVRqEwByZ7R        49.0\n",
       "2                   Still Beating  2N4idqj9TT3HnH2OFT9j0v        67.0\n",
       "3              Waitin' On The Day  58ImA5yX8b5UkLy9MDXwWO        57.0\n",
       "4                           SUGAR  6U0FIYXCQ3TGrk4tFpLrEA        81.0"
      ],
      "text/html": "<div>\n<style scoped>\n    .dataframe tbody tr th:only-of-type {\n        vertical-align: middle;\n    }\n\n    .dataframe tbody tr th {\n        vertical-align: top;\n    }\n\n    .dataframe thead th {\n        text-align: right;\n    }\n</style>\n<table border=\"1\" class=\"dataframe\">\n  <thead>\n    <tr style=\"text-align: right;\">\n      <th></th>\n      <th>Track name</th>\n      <th>Track ID</th>\n      <th>popularity</th>\n    </tr>\n  </thead>\n  <tbody>\n    <tr>\n      <th>0</th>\n      <td>Freaking Out the Neighborhood</td>\n      <td>25SJaCCPiosugnlY53VhRG</td>\n      <td>73.0</td>\n    </tr>\n    <tr>\n      <th>1</th>\n      <td>If I Ever Get Around To Living</td>\n      <td>6Oi3mUl8WwfTVRqEwByZ7R</td>\n      <td>49.0</td>\n    </tr>\n    <tr>\n      <th>2</th>\n      <td>Still Beating</td>\n      <td>2N4idqj9TT3HnH2OFT9j0v</td>\n      <td>67.0</td>\n    </tr>\n    <tr>\n      <th>3</th>\n      <td>Waitin' On The Day</td>\n      <td>58ImA5yX8b5UkLy9MDXwWO</td>\n      <td>57.0</td>\n    </tr>\n    <tr>\n      <th>4</th>\n      <td>SUGAR</td>\n      <td>6U0FIYXCQ3TGrk4tFpLrEA</td>\n      <td>81.0</td>\n    </tr>\n  </tbody>\n</table>\n</div>"
     },
     "metadata": {},
     "execution_count": 16
    }
   ],
   "source": [
    "df.head()"
   ]
  },
  {
   "cell_type": "code",
   "execution_count": 17,
   "metadata": {},
   "outputs": [],
   "source": [
    "test = df[\"Track ID\"][0]"
   ]
  },
  {
   "cell_type": "code",
   "execution_count": 18,
   "metadata": {},
   "outputs": [
    {
     "output_type": "execute_result",
     "data": {
      "text/plain": [
       "[{'danceability': 0.565,\n",
       "  'energy': 0.832,\n",
       "  'key': 8,\n",
       "  'loudness': -5.751,\n",
       "  'mode': 0,\n",
       "  'speechiness': 0.108,\n",
       "  'acousticness': 0.0639,\n",
       "  'instrumentalness': 0.0291,\n",
       "  'liveness': 0.386,\n",
       "  'valence': 0.847,\n",
       "  'tempo': 143.302,\n",
       "  'type': 'audio_features',\n",
       "  'id': '25SJaCCPiosugnlY53VhRG',\n",
       "  'uri': 'spotify:track:25SJaCCPiosugnlY53VhRG',\n",
       "  'track_href': 'https://api.spotify.com/v1/tracks/25SJaCCPiosugnlY53VhRG',\n",
       "  'analysis_url': 'https://api.spotify.com/v1/audio-analysis/25SJaCCPiosugnlY53VhRG',\n",
       "  'duration_ms': 173889,\n",
       "  'time_signature': 4}]"
      ]
     },
     "metadata": {},
     "execution_count": 18
    }
   ],
   "source": [
    "sp.audio_features(tracks=[test])"
   ]
  },
  {
   "cell_type": "code",
   "execution_count": 19,
   "metadata": {},
   "outputs": [],
   "source": [
    "features = [\"danceability\", \"energy\", \"loudness\", \"acousticness\", \"instrumentalness\", \"liveness\", \"tempo\"]\n",
    "\n",
    "for i in range(df.shape[0]):\n",
    "    track_id = df[\"Track ID\"][i]\n",
    "    feature_dictionary = sp.audio_features(tracks=[track_id])[0]\n",
    "    for feature in features:\n",
    "        df.loc[i, feature] = feature_dictionary[feature]"
   ]
  },
  {
   "cell_type": "code",
   "execution_count": 20,
   "metadata": {},
   "outputs": [
    {
     "output_type": "execute_result",
     "data": {
      "text/plain": [
       "                       Track name                Track ID  popularity  \\\n",
       "0   Freaking Out the Neighborhood  25SJaCCPiosugnlY53VhRG        73.0   \n",
       "1  If I Ever Get Around To Living  6Oi3mUl8WwfTVRqEwByZ7R        49.0   \n",
       "2                   Still Beating  2N4idqj9TT3HnH2OFT9j0v        67.0   \n",
       "3              Waitin' On The Day  58ImA5yX8b5UkLy9MDXwWO        57.0   \n",
       "4                           SUGAR  6U0FIYXCQ3TGrk4tFpLrEA        81.0   \n",
       "\n",
       "   danceability  energy  loudness  acousticness  instrumentalness  liveness  \\\n",
       "0         0.565   0.832    -5.751        0.0639            0.0291     0.386   \n",
       "1         0.559   0.468   -12.738        0.5320            0.1290     0.257   \n",
       "2         0.709   0.496   -10.528        0.5810            0.1950     0.151   \n",
       "3         0.656   0.438    -8.631        0.7970            0.0522     0.142   \n",
       "4         0.453   0.538    -8.212        0.4490            0.0000     0.190   \n",
       "\n",
       "     tempo  \n",
       "0  143.302  \n",
       "1   80.014  \n",
       "2   78.477  \n",
       "3  119.996  \n",
       "4  122.973  "
      ],
      "text/html": "<div>\n<style scoped>\n    .dataframe tbody tr th:only-of-type {\n        vertical-align: middle;\n    }\n\n    .dataframe tbody tr th {\n        vertical-align: top;\n    }\n\n    .dataframe thead th {\n        text-align: right;\n    }\n</style>\n<table border=\"1\" class=\"dataframe\">\n  <thead>\n    <tr style=\"text-align: right;\">\n      <th></th>\n      <th>Track name</th>\n      <th>Track ID</th>\n      <th>popularity</th>\n      <th>danceability</th>\n      <th>energy</th>\n      <th>loudness</th>\n      <th>acousticness</th>\n      <th>instrumentalness</th>\n      <th>liveness</th>\n      <th>tempo</th>\n    </tr>\n  </thead>\n  <tbody>\n    <tr>\n      <th>0</th>\n      <td>Freaking Out the Neighborhood</td>\n      <td>25SJaCCPiosugnlY53VhRG</td>\n      <td>73.0</td>\n      <td>0.565</td>\n      <td>0.832</td>\n      <td>-5.751</td>\n      <td>0.0639</td>\n      <td>0.0291</td>\n      <td>0.386</td>\n      <td>143.302</td>\n    </tr>\n    <tr>\n      <th>1</th>\n      <td>If I Ever Get Around To Living</td>\n      <td>6Oi3mUl8WwfTVRqEwByZ7R</td>\n      <td>49.0</td>\n      <td>0.559</td>\n      <td>0.468</td>\n      <td>-12.738</td>\n      <td>0.5320</td>\n      <td>0.1290</td>\n      <td>0.257</td>\n      <td>80.014</td>\n    </tr>\n    <tr>\n      <th>2</th>\n      <td>Still Beating</td>\n      <td>2N4idqj9TT3HnH2OFT9j0v</td>\n      <td>67.0</td>\n      <td>0.709</td>\n      <td>0.496</td>\n      <td>-10.528</td>\n      <td>0.5810</td>\n      <td>0.1950</td>\n      <td>0.151</td>\n      <td>78.477</td>\n    </tr>\n    <tr>\n      <th>3</th>\n      <td>Waitin' On The Day</td>\n      <td>58ImA5yX8b5UkLy9MDXwWO</td>\n      <td>57.0</td>\n      <td>0.656</td>\n      <td>0.438</td>\n      <td>-8.631</td>\n      <td>0.7970</td>\n      <td>0.0522</td>\n      <td>0.142</td>\n      <td>119.996</td>\n    </tr>\n    <tr>\n      <th>4</th>\n      <td>SUGAR</td>\n      <td>6U0FIYXCQ3TGrk4tFpLrEA</td>\n      <td>81.0</td>\n      <td>0.453</td>\n      <td>0.538</td>\n      <td>-8.212</td>\n      <td>0.4490</td>\n      <td>0.0000</td>\n      <td>0.190</td>\n      <td>122.973</td>\n    </tr>\n  </tbody>\n</table>\n</div>"
     },
     "metadata": {},
     "execution_count": 20
    }
   ],
   "source": [
    "df.head()"
   ]
  },
  {
   "cell_type": "code",
   "execution_count": 37,
   "metadata": {},
   "outputs": [
    {
     "output_type": "execute_result",
     "data": {
      "text/plain": [
       "Text(0.5, 1.0, \"Arnav's 50 all-time top tracks\")"
      ]
     },
     "metadata": {},
     "execution_count": 37
    },
    {
     "output_type": "display_data",
     "data": {
      "text/plain": "<Figure size 432x288 with 1 Axes>",
      "image/png": "[encoded data removed]"
     },
     "metadata": {}
    }
   ],
   "source": [
    "plt.figure()\n",
    "plt.hist(df[\"tempo\"])\n",
    "plt.xlabel(\"Tempo / bpm\")\n",
    "plt.ylabel(\"Frequency\")\n",
    "plt.title(\"Arnav's 50 all-time top tracks\")"
   ]
  },
  {
   "cell_type": "code",
   "execution_count": 23,
   "metadata": {},
   "outputs": [
    {
     "output_type": "execute_result",
     "data": {
      "text/plain": [
       "(array([ 2.,  2.,  8., 10.,  8., 12.,  2.,  1.,  4.,  1.]),\n",
       " array([0.1   , 0.1847, 0.2694, 0.3541, 0.4388, 0.5235, 0.6082, 0.6929,\n",
       "        0.7776, 0.8623, 0.947 ]),\n",
       " <a list of 10 Patch objects>)"
      ]
     },
     "metadata": {},
     "execution_count": 23
    },
    {
     "output_type": "display_data",
     "data": {
      "text/plain": "<Figure size 432x288 with 1 Axes>",
      "image/png": "[encoded data removed]"
     },
     "metadata": {}
    }
   ],
   "source": [
    "plt.hist(df[\"energy\"])"
   ]
  },
  {
   "cell_type": "code",
   "execution_count": 35,
   "metadata": {},
   "outputs": [
    {
     "output_type": "display_data",
     "data": {
      "text/plain": "<Figure size 432x288 with 9 Axes>",
      "image/png": "[encoded data removed]"
     },
     "metadata": {}
    }
   ],
   "source": [
    "df.hist(xlabelsize=0);"
   ]
  },
  {
   "cell_type": "code",
   "execution_count": 36,
   "metadata": {},
   "outputs": [
    {
     "output_type": "execute_result",
     "data": {
      "text/plain": [
       "<matplotlib.axes._subplots.AxesSubplot at 0x7f8b4bc55a30>"
      ]
     },
     "metadata": {},
     "execution_count": 36
    },
    {
     "output_type": "display_data",
     "data": {
      "text/plain": "<Figure size 432x288 with 2 Axes>",
      "image/png": "[encoded data removed]"
     },
     "metadata": {}
    }
   ],
   "source": [
    "sns.heatmap(df.corr(), cmap=plt.cm.get_cmap(\"RdBu\"))"
   ]
  },
  {
   "cell_type": "code",
   "execution_count": 186,
   "metadata": {},
   "outputs": [
    {
     "output_type": "execute_result",
     "data": {
      "text/plain": [
       "                                   Track name                Track ID  \\\n",
       "0               Freaking Out the Neighborhood  25SJaCCPiosugnlY53VhRG   \n",
       "1                               Still Beating  2N4idqj9TT3HnH2OFT9j0v   \n",
       "2              If I Ever Get Around To Living  6Oi3mUl8WwfTVRqEwByZ7R   \n",
       "3                          Waitin' On The Day  58ImA5yX8b5UkLy9MDXwWO   \n",
       "4                                       SUGAR  6U0FIYXCQ3TGrk4tFpLrEA   \n",
       "5                                My 1-Bedroom  1wkU8NjA4JzwszL61vCmnu   \n",
       "6      What Did You Mean (When You Said Love)  5UluDwGczz51tTGq2E4PR1   \n",
       "7                   Love Is a Beautiful Thing  59qmUODXmHXiWwvG8WdzEW   \n",
       "8                          Called To Tell You  5R7smNPfVbGs07hdG9cPbR   \n",
       "9                                 Back Pocket  1DrlLvlYd1FIjNavRm6NdX   \n",
       "10                            Cómo Me Quieres  3GO6bT0b1sdInk1KPCK64d   \n",
       "11                   I Guess I Just Feel Like  1HNywa8Bk0TmzRwQrzhtPo   \n",
       "12                        Wait for the Moment  48wH8bAxvBJO2l14GmNLz7   \n",
       "13                  Love Is a Beautiful Thing  6NzE6TTlRMXonm5YEMVlVc   \n",
       "14                           The Age of Worry  1RywwImkBFUEVcRTBmw7vL   \n",
       "15                                     Easily  2k9N4caeCIJLOWwWwssrEM   \n",
       "16                                   Holocene  05lBuZWQ2OhQuzoCSIkvUF   \n",
       "17                 Moving On and Getting Over  1crSsvtU9wZB15dIQXV2QH   \n",
       "18                               This Old Dog  1KTMZ2DeqT4oqIJ7Co5F6R   \n",
       "19                                   3 Nights  1tNJrcVe6gwLEiZCtprs1u   \n",
       "20                              Go Easy On Me  2AvFR6pi8tjwmaqgxcXOIJ   \n",
       "21                                       1612  39rHfrVqCX6A55GF7uOZSC   \n",
       "22                          Break up Together  5xRlNALFbZ7gaWGlySwfTM   \n",
       "23                                  Dean Town  1oOD1pV43cV9sHg97aBdLs   \n",
       "24                             No Other Heart  2bOtPtzdNZMXxuAETyMSUt   \n",
       "25                            Time Moves Slow  4eVUPMhqGFcmxo6cjv9KqA   \n",
       "26                               Saviers Road  3LfnrqODEqXpp7s974cT4z   \n",
       "27                                 My Old Man  4c7k0jGOFR1OraHvE3BszV   \n",
       "28                                One Another  4xF9zRaPdnrLU7QmVMKOzR   \n",
       "29  Slow Dancing in a Burning Room - Acoustic  3PSMcb1gU5A8DveqU2K4z2   \n",
       "30                                      Taste  6GbWNeR3P9MTCmSyPVHgb1   \n",
       "31                           Wake Up This Day  2eGFixlUmSK3Yei80riTVe   \n",
       "32                       Cheers (feat. Q-Tip)  4qNijbGeHqlcFWrGrATFOX   \n",
       "33                                    Gravity  79Cf1l3ArCR9Rekn5xsQZD   \n",
       "34                              Feel It Still  6QgjcU0zLnzq5OrUoSZ3OK   \n",
       "35                              Big Black Car  3Kj2EWpIBnvETsYq4cq0IH   \n",
       "36                           Good to Be Alone  2P8kBO7P0SppnEX8gVN3up   \n",
       "37                                    Islands  79bV0vhZVznsoUpq6A2lNq   \n",
       "38                                 Raat Raazi  3k458zzqcF9UeRfZqRbZYr   \n",
       "39                               Pink + White  3xKsf9qdS1CyvXSMEid6g8   \n",
       "40                              Herside Story  564oa00vY05d1uYnTEAAmE   \n",
       "41                           Crappy Love Song  2o4QJqDv6EnC6Fb9zDALdg   \n",
       "42                            It Gets Funkier  0vOAN45nUNSqRIWPTOSDsJ   \n",
       "43                              Phone Numbers  3f9Mzvd3URfbbIJBX4pz9Z   \n",
       "44                       Tribe (with J. Cole)  0YAQnYt2oB8OdoaeqnHyTI   \n",
       "45                                  100 words  1vVTdcJysPKWDwutqELNTg   \n",
       "46                      TOOTIMETOOTIMETOOTIME  33DzKnwuBE6lfOiADwzd5E   \n",
       "47                            Baby You're Out  18nwOqwVCo7JFOci9uqBLD   \n",
       "48                                  Sunflower  4EpZ4eYuZOwPSSwyqpdHnJ   \n",
       "49                                    Go Easy  5FMu7ZbfPXmGeOU7FnGijE   \n",
       "\n",
       "    Popularity danceability energy loudness acousticness instrumentalness  \\\n",
       "0         73.0        0.565  0.832   -5.751       0.0639           0.0291   \n",
       "1         67.0        0.709  0.496  -10.528        0.581            0.195   \n",
       "2         49.0        0.559  0.468  -12.738        0.532            0.129   \n",
       "3         57.0        0.656  0.438   -8.631        0.797           0.0522   \n",
       "4         81.0        0.453  0.538   -8.212        0.449                0   \n",
       "5         35.0        0.552  0.323  -11.672        0.808         0.000284   \n",
       "6         23.0        0.819   0.44  -10.801        0.213           0.0364   \n",
       "7         49.0        0.805  0.314  -11.009         0.32         1.28e-06   \n",
       "8         24.0        0.863  0.469  -10.161        0.634         6.42e-05   \n",
       "9         63.0        0.839  0.585   -7.738        0.478          0.00281   \n",
       "10        54.0         0.55  0.536  -10.045      0.00612            0.884   \n",
       "11        73.0        0.556  0.528   -8.033        0.615           0.0964   \n",
       "12        60.0        0.773   0.36   -9.722        0.501          0.00409   \n",
       "13        39.0        0.847  0.373  -12.174        0.794          0.00241   \n",
       "14        55.0        0.508  0.362    -9.24        0.342         4.48e-05   \n",
       "15        76.0        0.772  0.256   -8.545        0.491          0.00612   \n",
       "16        66.0        0.379  0.306  -14.446        0.942            0.323   \n",
       "17        61.0         0.85  0.461   -9.018        0.591           0.0409   \n",
       "18        58.0        0.749  0.401  -10.856        0.219           0.0931   \n",
       "19        80.0        0.815  0.518   -6.594        0.223                0   \n",
       "20        38.0        0.517  0.297   -9.205        0.719         2.17e-06   \n",
       "21        58.0        0.678  0.392  -11.328        0.177           0.0045   \n",
       "22        49.0         0.87  0.414  -10.995        0.564         3.47e-05   \n",
       "23        58.0        0.796  0.608  -10.936        0.499            0.887   \n",
       "24        51.0         0.67  0.684    -7.47        0.517           0.0103   \n",
       "25        58.0        0.621  0.376  -10.832        0.471           0.0289   \n",
       "26        53.0        0.539  0.631   -7.673      0.00899                0   \n",
       "27        56.0        0.658  0.575  -11.493        0.677            0.253   \n",
       "28        57.0         0.82  0.579   -9.601        0.196            0.184   \n",
       "29        55.0        0.611  0.313  -10.242        0.835         0.000315   \n",
       "30        58.0        0.768  0.429   -9.401        0.875            0.419   \n",
       "31        54.0        0.734  0.479   -8.285        0.557          0.00071   \n",
       "32        54.0        0.727  0.518   -7.825       0.0888                0   \n",
       "33        34.0        0.592    0.1  -10.094        0.861         0.000207   \n",
       "34        78.0        0.801  0.795   -5.115       0.0417         0.000113   \n",
       "35        67.0        0.572  0.183  -16.069        0.897          0.00275   \n",
       "36        42.0         0.77  0.341  -10.821         0.76         0.000274   \n",
       "37        41.0        0.264  0.303  -14.986        0.762           0.0221   \n",
       "38        46.0        0.481  0.254  -10.642        0.756            0.372   \n",
       "39        78.0        0.544  0.552    -7.45         0.67         4.57e-05   \n",
       "40        69.0        0.885  0.595   -5.487        0.656         4.42e-06   \n",
       "41        33.0        0.746  0.349   -8.881        0.755         2.23e-06   \n",
       "42        42.0        0.505  0.947   -9.717        0.219            0.882   \n",
       "43        74.0        0.884  0.539   -6.389        0.239                0   \n",
       "44        71.0        0.755  0.594   -5.906        0.241                0   \n",
       "45        27.0        0.468  0.438  -14.575        0.887            0.368   \n",
       "46        65.0        0.667  0.824   -5.867        0.177           0.0152   \n",
       "47        49.0        0.717  0.581   -10.52         0.43            0.289   \n",
       "48        78.0        0.384  0.765   -4.463        0.646          0.00352   \n",
       "49        49.0        0.332  0.785   -7.136        0.287            0.108   \n",
       "\n",
       "   liveness    tempo  \n",
       "0     0.386  143.302  \n",
       "1     0.151   78.477  \n",
       "2     0.257   80.014  \n",
       "3     0.142  119.996  \n",
       "4      0.19  122.973  \n",
       "5     0.102  176.514  \n",
       "6     0.102  116.717  \n",
       "7     0.112  114.353  \n",
       "8     0.085  118.128  \n",
       "9    0.0435   89.821  \n",
       "10    0.372   85.458  \n",
       "11    0.122  159.821  \n",
       "12   0.0823   79.207  \n",
       "13    0.275  114.011  \n",
       "14    0.146   67.339  \n",
       "15    0.144  118.902  \n",
       "16    0.123  147.902  \n",
       "17      0.1   94.038  \n",
       "18    0.206  138.811  \n",
       "19    0.104  151.891  \n",
       "20    0.125  118.809  \n",
       "21   0.0839  171.274  \n",
       "22    0.121  103.958  \n",
       "23   0.0979  108.756  \n",
       "24    0.126   94.261  \n",
       "25    0.102  139.842  \n",
       "26    0.132   88.426  \n",
       "27   0.0985  149.274  \n",
       "28    0.113  104.928  \n",
       "29    0.111  134.858  \n",
       "30    0.115  104.026  \n",
       "31   0.0859   90.029  \n",
       "32   0.0893   88.255  \n",
       "33   0.0879   98.049  \n",
       "34   0.0717   79.028  \n",
       "35    0.103  110.029  \n",
       "36   0.0712  108.851  \n",
       "37    0.137   88.254  \n",
       "38    0.103  105.418  \n",
       "39    0.415  159.738  \n",
       "40    0.105  148.034  \n",
       "41    0.164   67.473  \n",
       "42    0.117  176.439  \n",
       "43   0.0805   85.008  \n",
       "44    0.107  178.929  \n",
       "45    0.114   76.139  \n",
       "46   0.0933  114.998  \n",
       "47   0.0947   93.001  \n",
       "48    0.522  129.903  \n",
       "49    0.301  152.609  "
      ],
      "text/html": "<div>\n<style scoped>\n    .dataframe tbody tr th:only-of-type {\n        vertical-align: middle;\n    }\n\n    .dataframe tbody tr th {\n        vertical-align: top;\n    }\n\n    .dataframe thead th {\n        text-align: right;\n    }\n</style>\n<table border=\"1\" class=\"dataframe\">\n  <thead>\n    <tr style=\"text-align: right;\">\n      <th></th>\n      <th>Track name</th>\n      <th>Track ID</th>\n      <th>Popularity</th>\n      <th>danceability</th>\n      <th>energy</th>\n      <th>loudness</th>\n      <th>acousticness</th>\n      <th>instrumentalness</th>\n      <th>liveness</th>\n      <th>tempo</th>\n    </tr>\n  </thead>\n  <tbody>\n    <tr>\n      <th>0</th>\n      <td>Freaking Out the Neighborhood</td>\n      <td>25SJaCCPiosugnlY53VhRG</td>\n      <td>73.0</td>\n      <td>0.565</td>\n      <td>0.832</td>\n      <td>-5.751</td>\n      <td>0.0639</td>\n      <td>0.0291</td>\n      <td>0.386</td>\n      <td>143.302</td>\n    </tr>\n    <tr>\n      <th>1</th>\n      <td>Still Beating</td>\n      <td>2N4idqj9TT3HnH2OFT9j0v</td>\n      <td>67.0</td>\n      <td>0.709</td>\n      <td>0.496</td>\n      <td>-10.528</td>\n      <td>0.581</td>\n      <td>0.195</td>\n      <td>0.151</td>\n      <td>78.477</td>\n    </tr>\n    <tr>\n      <th>2</th>\n      <td>If I Ever Get Around To Living</td>\n      <td>6Oi3mUl8WwfTVRqEwByZ7R</td>\n      <td>49.0</td>\n      <td>0.559</td>\n      <td>0.468</td>\n      <td>-12.738</td>\n      <td>0.532</td>\n      <td>0.129</td>\n      <td>0.257</td>\n      <td>80.014</td>\n    </tr>\n    <tr>\n      <th>3</th>\n      <td>Waitin' On The Day</td>\n      <td>58ImA5yX8b5UkLy9MDXwWO</td>\n      <td>57.0</td>\n      <td>0.656</td>\n      <td>0.438</td>\n      <td>-8.631</td>\n      <td>0.797</td>\n      <td>0.0522</td>\n      <td>0.142</td>\n      <td>119.996</td>\n    </tr>\n    <tr>\n      <th>4</th>\n      <td>SUGAR</td>\n      <td>6U0FIYXCQ3TGrk4tFpLrEA</td>\n      <td>81.0</td>\n      <td>0.453</td>\n      <td>0.538</td>\n      <td>-8.212</td>\n      <td>0.449</td>\n      <td>0</td>\n      <td>0.19</td>\n      <td>122.973</td>\n    </tr>\n    <tr>\n      <th>5</th>\n      <td>My 1-Bedroom</td>\n      <td>1wkU8NjA4JzwszL61vCmnu</td>\n      <td>35.0</td>\n      <td>0.552</td>\n      <td>0.323</td>\n      <td>-11.672</td>\n      <td>0.808</td>\n      <td>0.000284</td>\n      <td>0.102</td>\n      <td>176.514</td>\n    </tr>\n    <tr>\n      <th>6</th>\n      <td>What Did You Mean (When You Said Love)</td>\n      <td>5UluDwGczz51tTGq2E4PR1</td>\n      <td>23.0</td>\n      <td>0.819</td>\n      <td>0.44</td>\n      <td>-10.801</td>\n      <td>0.213</td>\n      <td>0.0364</td>\n      <td>0.102</td>\n      <td>116.717</td>\n    </tr>\n    <tr>\n      <th>7</th>\n      <td>Love Is a Beautiful Thing</td>\n      <td>59qmUODXmHXiWwvG8WdzEW</td>\n      <td>49.0</td>\n      <td>0.805</td>\n      <td>0.314</td>\n      <td>-11.009</td>\n      <td>0.32</td>\n      <td>1.28e-06</td>\n      <td>0.112</td>\n      <td>114.353</td>\n    </tr>\n    <tr>\n      <th>8</th>\n      <td>Called To Tell You</td>\n      <td>5R7smNPfVbGs07hdG9cPbR</td>\n      <td>24.0</td>\n      <td>0.863</td>\n      <td>0.469</td>\n      <td>-10.161</td>\n      <td>0.634</td>\n      <td>6.42e-05</td>\n      <td>0.085</td>\n      <td>118.128</td>\n    </tr>\n    <tr>\n      <th>9</th>\n      <td>Back Pocket</td>\n      <td>1DrlLvlYd1FIjNavRm6NdX</td>\n      <td>63.0</td>\n      <td>0.839</td>\n      <td>0.585</td>\n      <td>-7.738</td>\n      <td>0.478</td>\n      <td>0.00281</td>\n      <td>0.0435</td>\n      <td>89.821</td>\n    </tr>\n    <tr>\n      <th>10</th>\n      <td>Cómo Me Quieres</td>\n      <td>3GO6bT0b1sdInk1KPCK64d</td>\n      <td>54.0</td>\n      <td>0.55</td>\n      <td>0.536</td>\n      <td>-10.045</td>\n      <td>0.00612</td>\n      <td>0.884</td>\n      <td>0.372</td>\n      <td>85.458</td>\n    </tr>\n    <tr>\n      <th>11</th>\n      <td>I Guess I Just Feel Like</td>\n      <td>1HNywa8Bk0TmzRwQrzhtPo</td>\n      <td>73.0</td>\n      <td>0.556</td>\n      <td>0.528</td>\n      <td>-8.033</td>\n      <td>0.615</td>\n      <td>0.0964</td>\n      <td>0.122</td>\n      <td>159.821</td>\n    </tr>\n    <tr>\n      <th>12</th>\n      <td>Wait for the Moment</td>\n      <td>48wH8bAxvBJO2l14GmNLz7</td>\n      <td>60.0</td>\n      <td>0.773</td>\n      <td>0.36</td>\n      <td>-9.722</td>\n      <td>0.501</td>\n      <td>0.00409</td>\n      <td>0.0823</td>\n      <td>79.207</td>\n    </tr>\n    <tr>\n      <th>13</th>\n      <td>Love Is a Beautiful Thing</td>\n      <td>6NzE6TTlRMXonm5YEMVlVc</td>\n      <td>39.0</td>\n      <td>0.847</td>\n      <td>0.373</td>\n      <td>-12.174</td>\n      <td>0.794</td>\n      <td>0.00241</td>\n      <td>0.275</td>\n      <td>114.011</td>\n    </tr>\n    <tr>\n      <th>14</th>\n      <td>The Age of Worry</td>\n      <td>1RywwImkBFUEVcRTBmw7vL</td>\n      <td>55.0</td>\n      <td>0.508</td>\n      <td>0.362</td>\n      <td>-9.24</td>\n      <td>0.342</td>\n      <td>4.48e-05</td>\n      <td>0.146</td>\n      <td>67.339</td>\n    </tr>\n    <tr>\n      <th>15</th>\n      <td>Easily</td>\n      <td>2k9N4caeCIJLOWwWwssrEM</td>\n      <td>76.0</td>\n      <td>0.772</td>\n      <td>0.256</td>\n      <td>-8.545</td>\n      <td>0.491</td>\n      <td>0.00612</td>\n      <td>0.144</td>\n      <td>118.902</td>\n    </tr>\n    <tr>\n      <th>16</th>\n      <td>Holocene</td>\n      <td>05lBuZWQ2OhQuzoCSIkvUF</td>\n      <td>66.0</td>\n      <td>0.379</td>\n      <td>0.306</td>\n      <td>-14.446</td>\n      <td>0.942</td>\n      <td>0.323</td>\n      <td>0.123</td>\n      <td>147.902</td>\n    </tr>\n    <tr>\n      <th>17</th>\n      <td>Moving On and Getting Over</td>\n      <td>1crSsvtU9wZB15dIQXV2QH</td>\n      <td>61.0</td>\n      <td>0.85</td>\n      <td>0.461</td>\n      <td>-9.018</td>\n      <td>0.591</td>\n      <td>0.0409</td>\n      <td>0.1</td>\n      <td>94.038</td>\n    </tr>\n    <tr>\n      <th>18</th>\n      <td>This Old Dog</td>\n      <td>1KTMZ2DeqT4oqIJ7Co5F6R</td>\n      <td>58.0</td>\n      <td>0.749</td>\n      <td>0.401</td>\n      <td>-10.856</td>\n      <td>0.219</td>\n      <td>0.0931</td>\n      <td>0.206</td>\n      <td>138.811</td>\n    </tr>\n    <tr>\n      <th>19</th>\n      <td>3 Nights</td>\n      <td>1tNJrcVe6gwLEiZCtprs1u</td>\n      <td>80.0</td>\n      <td>0.815</td>\n      <td>0.518</td>\n      <td>-6.594</td>\n      <td>0.223</td>\n      <td>0</td>\n      <td>0.104</td>\n      <td>151.891</td>\n    </tr>\n    <tr>\n      <th>20</th>\n      <td>Go Easy On Me</td>\n      <td>2AvFR6pi8tjwmaqgxcXOIJ</td>\n      <td>38.0</td>\n      <td>0.517</td>\n      <td>0.297</td>\n      <td>-9.205</td>\n      <td>0.719</td>\n      <td>2.17e-06</td>\n      <td>0.125</td>\n      <td>118.809</td>\n    </tr>\n    <tr>\n      <th>21</th>\n      <td>1612</td>\n      <td>39rHfrVqCX6A55GF7uOZSC</td>\n      <td>58.0</td>\n      <td>0.678</td>\n      <td>0.392</td>\n      <td>-11.328</td>\n      <td>0.177</td>\n      <td>0.0045</td>\n      <td>0.0839</td>\n      <td>171.274</td>\n    </tr>\n    <tr>\n      <th>22</th>\n      <td>Break up Together</td>\n      <td>5xRlNALFbZ7gaWGlySwfTM</td>\n      <td>49.0</td>\n      <td>0.87</td>\n      <td>0.414</td>\n      <td>-10.995</td>\n      <td>0.564</td>\n      <td>3.47e-05</td>\n      <td>0.121</td>\n      <td>103.958</td>\n    </tr>\n    <tr>\n      <th>23</th>\n      <td>Dean Town</td>\n      <td>1oOD1pV43cV9sHg97aBdLs</td>\n      <td>58.0</td>\n      <td>0.796</td>\n      <td>0.608</td>\n      <td>-10.936</td>\n      <td>0.499</td>\n      <td>0.887</td>\n      <td>0.0979</td>\n      <td>108.756</td>\n    </tr>\n    <tr>\n      <th>24</th>\n      <td>No Other Heart</td>\n      <td>2bOtPtzdNZMXxuAETyMSUt</td>\n      <td>51.0</td>\n      <td>0.67</td>\n      <td>0.684</td>\n      <td>-7.47</td>\n      <td>0.517</td>\n      <td>0.0103</td>\n      <td>0.126</td>\n      <td>94.261</td>\n    </tr>\n    <tr>\n      <th>25</th>\n      <td>Time Moves Slow</td>\n      <td>4eVUPMhqGFcmxo6cjv9KqA</td>\n      <td>58.0</td>\n      <td>0.621</td>\n      <td>0.376</td>\n      <td>-10.832</td>\n      <td>0.471</td>\n      <td>0.0289</td>\n      <td>0.102</td>\n      <td>139.842</td>\n    </tr>\n    <tr>\n      <th>26</th>\n      <td>Saviers Road</td>\n      <td>3LfnrqODEqXpp7s974cT4z</td>\n      <td>53.0</td>\n      <td>0.539</td>\n      <td>0.631</td>\n      <td>-7.673</td>\n      <td>0.00899</td>\n      <td>0</td>\n      <td>0.132</td>\n      <td>88.426</td>\n    </tr>\n    <tr>\n      <th>27</th>\n      <td>My Old Man</td>\n      <td>4c7k0jGOFR1OraHvE3BszV</td>\n      <td>56.0</td>\n      <td>0.658</td>\n      <td>0.575</td>\n      <td>-11.493</td>\n      <td>0.677</td>\n      <td>0.253</td>\n      <td>0.0985</td>\n      <td>149.274</td>\n    </tr>\n    <tr>\n      <th>28</th>\n      <td>One Another</td>\n      <td>4xF9zRaPdnrLU7QmVMKOzR</td>\n      <td>57.0</td>\n      <td>0.82</td>\n      <td>0.579</td>\n      <td>-9.601</td>\n      <td>0.196</td>\n      <td>0.184</td>\n      <td>0.113</td>\n      <td>104.928</td>\n    </tr>\n    <tr>\n      <th>29</th>\n      <td>Slow Dancing in a Burning Room - Acoustic</td>\n      <td>3PSMcb1gU5A8DveqU2K4z2</td>\n      <td>55.0</td>\n      <td>0.611</td>\n      <td>0.313</td>\n      <td>-10.242</td>\n      <td>0.835</td>\n      <td>0.000315</td>\n      <td>0.111</td>\n      <td>134.858</td>\n    </tr>\n    <tr>\n      <th>30</th>\n      <td>Taste</td>\n      <td>6GbWNeR3P9MTCmSyPVHgb1</td>\n      <td>58.0</td>\n      <td>0.768</td>\n      <td>0.429</td>\n      <td>-9.401</td>\n      <td>0.875</td>\n      <td>0.419</td>\n      <td>0.115</td>\n      <td>104.026</td>\n    </tr>\n    <tr>\n      <th>31</th>\n      <td>Wake Up This Day</td>\n      <td>2eGFixlUmSK3Yei80riTVe</td>\n      <td>54.0</td>\n      <td>0.734</td>\n      <td>0.479</td>\n      <td>-8.285</td>\n      <td>0.557</td>\n      <td>0.00071</td>\n      <td>0.0859</td>\n      <td>90.029</td>\n    </tr>\n    <tr>\n      <th>32</th>\n      <td>Cheers (feat. Q-Tip)</td>\n      <td>4qNijbGeHqlcFWrGrATFOX</td>\n      <td>54.0</td>\n      <td>0.727</td>\n      <td>0.518</td>\n      <td>-7.825</td>\n      <td>0.0888</td>\n      <td>0</td>\n      <td>0.0893</td>\n      <td>88.255</td>\n    </tr>\n    <tr>\n      <th>33</th>\n      <td>Gravity</td>\n      <td>79Cf1l3ArCR9Rekn5xsQZD</td>\n      <td>34.0</td>\n      <td>0.592</td>\n      <td>0.1</td>\n      <td>-10.094</td>\n      <td>0.861</td>\n      <td>0.000207</td>\n      <td>0.0879</td>\n      <td>98.049</td>\n    </tr>\n    <tr>\n      <th>34</th>\n      <td>Feel It Still</td>\n      <td>6QgjcU0zLnzq5OrUoSZ3OK</td>\n      <td>78.0</td>\n      <td>0.801</td>\n      <td>0.795</td>\n      <td>-5.115</td>\n      <td>0.0417</td>\n      <td>0.000113</td>\n      <td>0.0717</td>\n      <td>79.028</td>\n    </tr>\n    <tr>\n      <th>35</th>\n      <td>Big Black Car</td>\n      <td>3Kj2EWpIBnvETsYq4cq0IH</td>\n      <td>67.0</td>\n      <td>0.572</td>\n      <td>0.183</td>\n      <td>-16.069</td>\n      <td>0.897</td>\n      <td>0.00275</td>\n      <td>0.103</td>\n      <td>110.029</td>\n    </tr>\n    <tr>\n      <th>36</th>\n      <td>Good to Be Alone</td>\n      <td>2P8kBO7P0SppnEX8gVN3up</td>\n      <td>42.0</td>\n      <td>0.77</td>\n      <td>0.341</td>\n      <td>-10.821</td>\n      <td>0.76</td>\n      <td>0.000274</td>\n      <td>0.0712</td>\n      <td>108.851</td>\n    </tr>\n    <tr>\n      <th>37</th>\n      <td>Islands</td>\n      <td>79bV0vhZVznsoUpq6A2lNq</td>\n      <td>41.0</td>\n      <td>0.264</td>\n      <td>0.303</td>\n      <td>-14.986</td>\n      <td>0.762</td>\n      <td>0.0221</td>\n      <td>0.137</td>\n      <td>88.254</td>\n    </tr>\n    <tr>\n      <th>38</th>\n      <td>Raat Raazi</td>\n      <td>3k458zzqcF9UeRfZqRbZYr</td>\n      <td>46.0</td>\n      <td>0.481</td>\n      <td>0.254</td>\n      <td>-10.642</td>\n      <td>0.756</td>\n      <td>0.372</td>\n      <td>0.103</td>\n      <td>105.418</td>\n    </tr>\n    <tr>\n      <th>39</th>\n      <td>Pink + White</td>\n      <td>3xKsf9qdS1CyvXSMEid6g8</td>\n      <td>78.0</td>\n      <td>0.544</td>\n      <td>0.552</td>\n      <td>-7.45</td>\n      <td>0.67</td>\n      <td>4.57e-05</td>\n      <td>0.415</td>\n      <td>159.738</td>\n    </tr>\n    <tr>\n      <th>40</th>\n      <td>Herside Story</td>\n      <td>564oa00vY05d1uYnTEAAmE</td>\n      <td>69.0</td>\n      <td>0.885</td>\n      <td>0.595</td>\n      <td>-5.487</td>\n      <td>0.656</td>\n      <td>4.42e-06</td>\n      <td>0.105</td>\n      <td>148.034</td>\n    </tr>\n    <tr>\n      <th>41</th>\n      <td>Crappy Love Song</td>\n      <td>2o4QJqDv6EnC6Fb9zDALdg</td>\n      <td>33.0</td>\n      <td>0.746</td>\n      <td>0.349</td>\n      <td>-8.881</td>\n      <td>0.755</td>\n      <td>2.23e-06</td>\n      <td>0.164</td>\n      <td>67.473</td>\n    </tr>\n    <tr>\n      <th>42</th>\n      <td>It Gets Funkier</td>\n      <td>0vOAN45nUNSqRIWPTOSDsJ</td>\n      <td>42.0</td>\n      <td>0.505</td>\n      <td>0.947</td>\n      <td>-9.717</td>\n      <td>0.219</td>\n      <td>0.882</td>\n      <td>0.117</td>\n      <td>176.439</td>\n    </tr>\n    <tr>\n      <th>43</th>\n      <td>Phone Numbers</td>\n      <td>3f9Mzvd3URfbbIJBX4pz9Z</td>\n      <td>74.0</td>\n      <td>0.884</td>\n      <td>0.539</td>\n      <td>-6.389</td>\n      <td>0.239</td>\n      <td>0</td>\n      <td>0.0805</td>\n      <td>85.008</td>\n    </tr>\n    <tr>\n      <th>44</th>\n      <td>Tribe (with J. Cole)</td>\n      <td>0YAQnYt2oB8OdoaeqnHyTI</td>\n      <td>71.0</td>\n      <td>0.755</td>\n      <td>0.594</td>\n      <td>-5.906</td>\n      <td>0.241</td>\n      <td>0</td>\n      <td>0.107</td>\n      <td>178.929</td>\n    </tr>\n    <tr>\n      <th>45</th>\n      <td>100 words</td>\n      <td>1vVTdcJysPKWDwutqELNTg</td>\n      <td>27.0</td>\n      <td>0.468</td>\n      <td>0.438</td>\n      <td>-14.575</td>\n      <td>0.887</td>\n      <td>0.368</td>\n      <td>0.114</td>\n      <td>76.139</td>\n    </tr>\n    <tr>\n      <th>46</th>\n      <td>TOOTIMETOOTIMETOOTIME</td>\n      <td>33DzKnwuBE6lfOiADwzd5E</td>\n      <td>65.0</td>\n      <td>0.667</td>\n      <td>0.824</td>\n      <td>-5.867</td>\n      <td>0.177</td>\n      <td>0.0152</td>\n      <td>0.0933</td>\n      <td>114.998</td>\n    </tr>\n    <tr>\n      <th>47</th>\n      <td>Baby You're Out</td>\n      <td>18nwOqwVCo7JFOci9uqBLD</td>\n      <td>49.0</td>\n      <td>0.717</td>\n      <td>0.581</td>\n      <td>-10.52</td>\n      <td>0.43</td>\n      <td>0.289</td>\n      <td>0.0947</td>\n      <td>93.001</td>\n    </tr>\n    <tr>\n      <th>48</th>\n      <td>Sunflower</td>\n      <td>4EpZ4eYuZOwPSSwyqpdHnJ</td>\n      <td>78.0</td>\n      <td>0.384</td>\n      <td>0.765</td>\n      <td>-4.463</td>\n      <td>0.646</td>\n      <td>0.00352</td>\n      <td>0.522</td>\n      <td>129.903</td>\n    </tr>\n    <tr>\n      <th>49</th>\n      <td>Go Easy</td>\n      <td>5FMu7ZbfPXmGeOU7FnGijE</td>\n      <td>49.0</td>\n      <td>0.332</td>\n      <td>0.785</td>\n      <td>-7.136</td>\n      <td>0.287</td>\n      <td>0.108</td>\n      <td>0.301</td>\n      <td>152.609</td>\n    </tr>\n  </tbody>\n</table>\n</div>"
     },
     "metadata": {},
     "execution_count": 186
    }
   ],
   "source": [
    "df"
   ]
  },
  {
   "cell_type": "code",
   "execution_count": null,
   "metadata": {},
   "outputs": [],
   "source": []
  }
 ]
}