{
 "metadata": {
  "language_info": {
   "codemirror_mode": {
    "name": "ipython",
    "version": 3
   },
   "file_extension": ".py",
   "mimetype": "text/x-python",
   "name": "python",
   "nbconvert_exporter": "python",
   "pygments_lexer": "ipython3",
   "version": "3.8.5-final"
  },
  "orig_nbformat": 2,
  "kernelspec": {
   "name": "python3",
   "display_name": "Python 3"
  }
 },
 "nbformat": 4,
 "nbformat_minor": 2,
 "cells": [
  {
   "cell_type": "code",
   "execution_count": 1,
   "metadata": {},
   "outputs": [],
   "source": [
    "import spotipy\n",
    "from spotipy.oauth2 import SpotifyOAuth\n",
    "import spotipy.util as util\n",
    "import pandas as pd\n",
    "import matplotlib.pyplot as plt\n",
    "import seaborn as sns\n",
    "from IPython.display import clear_output, display\n",
    "sns.set()"
   ]
  },
  {
   "cell_type": "code",
   "execution_count": 2,
   "metadata": {},
   "outputs": [],
   "source": [
    "#Import client_id, client_secret, etc from external .json file (to keep user details out of the .ipynb file).\n",
    "df = pd.read_json(\"/Users/arnavprasad/Google Drive/Documents/Coding/Spotify/auth_details.json\", typ=\"series\")\n",
    "\n",
    "username = \"arnav7\"\n",
    "client_id = df[\"client_id\"]\n",
    "client_secret = df[\"client_secret\"]\n",
    "redirect_uri = df[\"redirect_uri\"]"
   ]
  },
  {
   "cell_type": "code",
   "execution_count": 3,
   "metadata": {},
   "outputs": [],
   "source": [
    "scope = \"user-top-read playlist-modify-public\" #define your desired goal(s)"
   ]
  },
  {
   "cell_type": "code",
   "execution_count": 4,
   "metadata": {},
   "outputs": [],
   "source": [
    "token = util.prompt_for_user_token(username=username, \n",
    "                                   scope=scope, \n",
    "                                   client_id=client_id,   \n",
    "                                   client_secret=client_secret,     \n",
    "                                   redirect_uri=redirect_uri)"
   ]
  },
  {
   "cell_type": "code",
   "execution_count": 5,
   "metadata": {},
   "outputs": [],
   "source": [
    "sp = spotipy.Spotify(auth=token)"
   ]
  },
  {
   "cell_type": "code",
   "execution_count": 6,
   "metadata": {},
   "outputs": [],
   "source": [
    "features = [\"danceability\", \"energy\", \"loudness\", \"acousticness\", \"instrumentalness\", \"liveness\", \"tempo\"]\n",
    "\n",
    "#Function to return a simplified dictionary with only the required data\n",
    "\n",
    "def track_info(song_dict, audio_features=False):\n",
    "    \"\"\"\n",
    "    Returns all the necessary information about a song and removes the rest.\n",
    "\n",
    "    Input:\n",
    "    song_dict: a dictionary that contains all the information about a song (not all of which is necessary for our purposes).\n",
    "\n",
    "    Outputs:\n",
    "    track_info: simplified dictionary, with keys\n",
    "    - track_name\n",
    "    - track_id\n",
    "    - artist\n",
    "    - album\n",
    "    - duration\n",
    "    - popularity\n",
    "    - if audio_features==True, also returns the song's \"audio features\" as defined by Spotify\n",
    "    \"\"\"\n",
    "\n",
    "    track_data = {}\n",
    "\n",
    "    track_data[\"track_name\"] = song_dict[\"name\"]\n",
    "    track_data[\"artist\"] = song_dict[\"artists\"][0][\"name\"]\n",
    "    track_data[\"album\"] = song_dict[\"album\"][\"name\"]\n",
    "    track_data[\"track_id\"] = song_dict[\"id\"]\n",
    "    track_data[\"duration_ms\"] = song_dict[\"duration_ms\"]\n",
    "    track_data[\"popularity\"] = song_dict[\"popularity\"]\n",
    "\n",
    "    if audio_features == True:\n",
    "        for feature in features:\n",
    "            track_data[feature] = sp.audio_features(tracks=[song_dict[\"id\"]])[0][feature]\n",
    "        \n",
    "    return track_data\n",
    "\n",
    "\n",
    "#Function to display search results\n",
    "def search_results(query, limit=5, audio_features=False):\n",
    "    \"\"\"\n",
    "    Organise and display search results.\n",
    "    \"\"\"\n",
    "    results = sp.search(query, limit=limit)[\"tracks\"][\"items\"] #list of all the search results, as dictionaries\n",
    "\n",
    "    search_rows = []\n",
    "\n",
    "    for track in results:\n",
    "        search_rows.append(track_info(track, audio_features=audio_features)) #append only the required information\n",
    "\n",
    "    search_df = pd.DataFrame.from_dict(search_rows)\n",
    "\n",
    "    return search_df\n",
    "\n"
   ]
  },
  {
   "cell_type": "code",
   "execution_count": 7,
   "metadata": {},
   "outputs": [
    {
     "output_type": "stream",
     "name": "stdout",
     "text": [
      "short_term\n",
      "\n",
      "1 Old Fashioned // Bruno Major\n",
      "2 Photo ID // Remi Wolf\n",
      "3 Karma Police // Scary Pockets\n",
      "4 Cheesin' // Cautious Clay\n",
      "5 New York, New York (Live) // Jon Batiste\n",
      "6 Does It Make You Feel Good? // Joesef\n",
      "7 Out Of My Head // Mac DeMarco\n",
      "8 With Love To An Ex (feat. Moonchild Sanelly) // Gorillaz\n",
      "9 Dang! (feat. Anderson .Paak) // Mac Miller\n",
      "10 Vacation // Still Woozy\n",
      "\n",
      "\n",
      "medium_term\n",
      "\n",
      "1 Herside Story // GoldLink\n",
      "2 Tribe (with J. Cole) // Bas\n",
      "3 Out Of My Head // Mac DeMarco\n",
      "4 If You’re Too Shy (Let Me Know) // The 1975\n",
      "5 Sunblind // Fleet Foxes\n",
      "6 The Tracks Of My Tears // Smokey Robinson & The Miracles\n",
      "7 Great Dane - Radio Edit // Cosmo Pyke\n",
      "8 The Recipe // SiR\n",
      "9 CUT EM IN (feat. Rick Ross) // Anderson .Paak\n",
      "10 Baguetti (with JID & Kenny Beats) // Smino\n",
      "\n",
      "\n",
      "long_term\n",
      "\n",
      "1 Freaking Out the Neighborhood // Mac DeMarco\n",
      "2 SUGAR // BROCKHAMPTON\n",
      "3 Waitin' On The Day // John Mayer\n",
      "4 If I Ever Get Around To Living // John Mayer\n",
      "5 Still Beating // Mac DeMarco\n",
      "6 My 1-Bedroom // Theo Katzman\n",
      "7 What Did You Mean (When You Said Love) // Theo Katzman\n",
      "8 Love Is a Beautiful Thing // Vulfpeck\n",
      "9 Called To Tell You // Theo Katzman\n",
      "10 Back Pocket // Vulfpeck\n",
      "\n",
      "\n"
     ]
    }
   ],
   "source": [
    "#Print out your top songs over three different time periods\n",
    "\n",
    "ranges = [\"short_term\", \"medium_term\", \"long_term\"]\n",
    "\n",
    "for sp_range in ranges:\n",
    "    print(sp_range + \"\\n\")\n",
    "    results = sp.current_user_top_tracks(time_range=sp_range, limit=10)\n",
    "    for i, item in enumerate(results[\"items\"]):\n",
    "        print(str(i+1) + \" \" + item[\"name\"] + \" // \" + item[\"artists\"][0][\"name\"])\n",
    "    print(\"\\n\")\n"
   ]
  },
  {
   "cell_type": "code",
   "execution_count": 9,
   "metadata": {},
   "outputs": [],
   "source": [
    "#Search for seed songs\n",
    "\n",
    "#if you want to include the seed songs in the playlist\n",
    "include_seeds = False\n",
    "\n",
    "seeds = []\n",
    "\n",
    "seed_rows = []\n",
    "\n",
    "n = int(input(\"How many songs do you want in your playlist?\"))\n",
    "\n",
    "#Generate seed list\n",
    "for i in range(5):\n",
    "\n",
    "    if i == 0:\n",
    "        search_term = input(\"First seed track: \")\n",
    "        \n",
    "        results = search_results(search_term)\n",
    "        display(results[[\"track_name\", \"artist\", \"album\"]]) #display concise version of search results\n",
    "\n",
    "        index = int(input(\"Select the index of the track you want (indexing starts from zero): \")) #choose which song you want\n",
    "\n",
    "        track = results.loc[index]\n",
    "\n",
    "        clear_output()\n",
    "\n",
    "        seeds.append(track[\"track_id\"])\n",
    "        seed_rows.append(track)\n",
    "    \n",
    "    else:\n",
    "        cont = int(input(\"Enter 1 if you want to continue, and 0 if not: \"))\n",
    "\n",
    "        if cont == 1:\n",
    "\n",
    "            search_term = input(\"Next seed track: \")\n",
    "\n",
    "            results = search_results(search_term)\n",
    "            display(results[[\"track_name\", \"artist\", \"album\"]])\n",
    "\n",
    "            index = int(input(\"Select the index of the track you want (indexing starts from zero): \"))\n",
    "\n",
    "            track = results.loc[index]\n",
    "\n",
    "            clear_output()\n",
    "\n",
    "            seeds.append(track[\"track_id\"])\n",
    "            seed_rows.append(track)\n",
    "        else:\n",
    "            break\n",
    "\n",
    "seed_songs = pd.DataFrame.from_dict(seed_rows) #DataFrame for seed songs\n",
    "\n",
    "results = sp.recommendations(seed_tracks=seeds, limit=n)[\"tracks\"]\n",
    "rec_rows = []\n",
    "\n",
    "for track in results:\n",
    "    rec_rows.append(track_info(track))\n",
    "\n",
    "search_recs = pd.DataFrame.from_dict(rec_rows) #DataFrame for recommendation playlist\n",
    "\n",
    "\n",
    "if include_seeds==True:\n",
    "    search_recs = seed_songs.append(search_recs, ignore_index=True)"
   ]
  },
  {
   "cell_type": "code",
   "execution_count": 10,
   "metadata": {},
   "outputs": [
    {
     "output_type": "execute_result",
     "data": {
      "text/plain": [
       "        track_name       artist               album  popularity\n",
       "0           I Wish    Tom Misch              I Wish          55\n",
       "0       In My Room  Frank Ocean          In My Room          79\n",
       "0        Cory Wong     Vulfpeck  The Beautiful Game          52\n",
       "0          If Only      Raveena             If Only          61\n",
       "0  Cómo Me Quieres   Khruangbin   Con Todo El Mundo          54"
      ],
      "text/html": "<div>\n<style scoped>\n    .dataframe tbody tr th:only-of-type {\n        vertical-align: middle;\n    }\n\n    .dataframe tbody tr th {\n        vertical-align: top;\n    }\n\n    .dataframe thead th {\n        text-align: right;\n    }\n</style>\n<table border=\"1\" class=\"dataframe\">\n  <thead>\n    <tr style=\"text-align: right;\">\n      <th></th>\n      <th>track_name</th>\n      <th>artist</th>\n      <th>album</th>\n      <th>popularity</th>\n    </tr>\n  </thead>\n  <tbody>\n    <tr>\n      <th>0</th>\n      <td>I Wish</td>\n      <td>Tom Misch</td>\n      <td>I Wish</td>\n      <td>55</td>\n    </tr>\n    <tr>\n      <th>0</th>\n      <td>In My Room</td>\n      <td>Frank Ocean</td>\n      <td>In My Room</td>\n      <td>79</td>\n    </tr>\n    <tr>\n      <th>0</th>\n      <td>Cory Wong</td>\n      <td>Vulfpeck</td>\n      <td>The Beautiful Game</td>\n      <td>52</td>\n    </tr>\n    <tr>\n      <th>0</th>\n      <td>If Only</td>\n      <td>Raveena</td>\n      <td>If Only</td>\n      <td>61</td>\n    </tr>\n    <tr>\n      <th>0</th>\n      <td>Cómo Me Quieres</td>\n      <td>Khruangbin</td>\n      <td>Con Todo El Mundo</td>\n      <td>54</td>\n    </tr>\n  </tbody>\n</table>\n</div>"
     },
     "metadata": {},
     "execution_count": 10
    }
   ],
   "source": [
    "#Check to verify your seed songs\n",
    "seed_songs[[\"track_name\", \"artist\", \"album\", \"popularity\"]]"
   ]
  },
  {
   "cell_type": "code",
   "execution_count": 11,
   "metadata": {},
   "outputs": [
    {
     "output_type": "execute_result",
     "data": {
      "text/plain": [
       "                  track_name              artist  \\\n",
       "0               By Any Means         Jorja Smith   \n",
       "1                      Hurry       Teyana Taylor   \n",
       "2                   Tee Time            Vulfpeck   \n",
       "3                     Reason        Hablot Brown   \n",
       "4               Green & Gold     Lianne La Havas   \n",
       "5       Only Memories Remain   My Morning Jacket   \n",
       "6                      Judas  Esperanza Spalding   \n",
       "7               Prickly Pear     Portico Quartet   \n",
       "8          Long Time - Intro       Playboi Carti   \n",
       "9   Vex Oh (feat. Eight9FLY)          KAYTRANADA   \n",
       "10              Anotherclock             Parcels   \n",
       "11                  The Fall                Rhye   \n",
       "12  SLOW DANCING IN THE DARK                Joji   \n",
       "13       Hard To Say Goodbye          Washed Out   \n",
       "14                  Cardigan         Don Toliver   \n",
       "\n",
       "                                   album  popularity  \n",
       "0                           By Any Means          69  \n",
       "1                               K.T.S.E.          53  \n",
       "2                         Mr Finish Line          42  \n",
       "3   Soulection Black Label: Hablot Brown          46  \n",
       "4                                  Blood          64  \n",
       "5                          The Waterfall          44  \n",
       "6                    Emily’s D+Evolution          42  \n",
       "7             Knee-Deep in the North Sea          61  \n",
       "8                                Die Lit          70  \n",
       "9                                  BUBBA          66  \n",
       "10                          Anotherclock          49  \n",
       "11                                 Woman          61  \n",
       "12                             BALLADS 1          85  \n",
       "13                         Mister Mellow          32  \n",
       "14                        Heaven Or Hell          75  "
      ],
      "text/html": "<div>\n<style scoped>\n    .dataframe tbody tr th:only-of-type {\n        vertical-align: middle;\n    }\n\n    .dataframe tbody tr th {\n        vertical-align: top;\n    }\n\n    .dataframe thead th {\n        text-align: right;\n    }\n</style>\n<table border=\"1\" class=\"dataframe\">\n  <thead>\n    <tr style=\"text-align: right;\">\n      <th></th>\n      <th>track_name</th>\n      <th>artist</th>\n      <th>album</th>\n      <th>popularity</th>\n    </tr>\n  </thead>\n  <tbody>\n    <tr>\n      <th>0</th>\n      <td>By Any Means</td>\n      <td>Jorja Smith</td>\n      <td>By Any Means</td>\n      <td>69</td>\n    </tr>\n    <tr>\n      <th>1</th>\n      <td>Hurry</td>\n      <td>Teyana Taylor</td>\n      <td>K.T.S.E.</td>\n      <td>53</td>\n    </tr>\n    <tr>\n      <th>2</th>\n      <td>Tee Time</td>\n      <td>Vulfpeck</td>\n      <td>Mr Finish Line</td>\n      <td>42</td>\n    </tr>\n    <tr>\n      <th>3</th>\n      <td>Reason</td>\n      <td>Hablot Brown</td>\n      <td>Soulection Black Label: Hablot Brown</td>\n      <td>46</td>\n    </tr>\n    <tr>\n      <th>4</th>\n      <td>Green &amp; Gold</td>\n      <td>Lianne La Havas</td>\n      <td>Blood</td>\n      <td>64</td>\n    </tr>\n    <tr>\n      <th>5</th>\n      <td>Only Memories Remain</td>\n      <td>My Morning Jacket</td>\n      <td>The Waterfall</td>\n      <td>44</td>\n    </tr>\n    <tr>\n      <th>6</th>\n      <td>Judas</td>\n      <td>Esperanza Spalding</td>\n      <td>Emily’s D+Evolution</td>\n      <td>42</td>\n    </tr>\n    <tr>\n      <th>7</th>\n      <td>Prickly Pear</td>\n      <td>Portico Quartet</td>\n      <td>Knee-Deep in the North Sea</td>\n      <td>61</td>\n    </tr>\n    <tr>\n      <th>8</th>\n      <td>Long Time - Intro</td>\n      <td>Playboi Carti</td>\n      <td>Die Lit</td>\n      <td>70</td>\n    </tr>\n    <tr>\n      <th>9</th>\n      <td>Vex Oh (feat. Eight9FLY)</td>\n      <td>KAYTRANADA</td>\n      <td>BUBBA</td>\n      <td>66</td>\n    </tr>\n    <tr>\n      <th>10</th>\n      <td>Anotherclock</td>\n      <td>Parcels</td>\n      <td>Anotherclock</td>\n      <td>49</td>\n    </tr>\n    <tr>\n      <th>11</th>\n      <td>The Fall</td>\n      <td>Rhye</td>\n      <td>Woman</td>\n      <td>61</td>\n    </tr>\n    <tr>\n      <th>12</th>\n      <td>SLOW DANCING IN THE DARK</td>\n      <td>Joji</td>\n      <td>BALLADS 1</td>\n      <td>85</td>\n    </tr>\n    <tr>\n      <th>13</th>\n      <td>Hard To Say Goodbye</td>\n      <td>Washed Out</td>\n      <td>Mister Mellow</td>\n      <td>32</td>\n    </tr>\n    <tr>\n      <th>14</th>\n      <td>Cardigan</td>\n      <td>Don Toliver</td>\n      <td>Heaven Or Hell</td>\n      <td>75</td>\n    </tr>\n  </tbody>\n</table>\n</div>"
     },
     "metadata": {},
     "execution_count": 11
    }
   ],
   "source": [
    "#Look at the generated playlist\n",
    "search_recs[[\"track_name\", \"artist\", \"album\", \"popularity\"]]"
   ]
  },
  {
   "cell_type": "code",
   "execution_count": 12,
   "metadata": {},
   "outputs": [],
   "source": [
    "#Create list with only the track ids\n",
    "rec_track_ids = list(search_recs[\"track_id\"])"
   ]
  },
  {
   "cell_type": "code",
   "execution_count": 13,
   "metadata": {},
   "outputs": [],
   "source": [
    "#The URI for the playlist\n",
    "playlist_id = \"3pRiSIEh2iQEihpRoTmbDL\"\n",
    "\n",
    "#Make sure you don't add any duplicates\n",
    "\n",
    "playlist_tracks = [] #tracks already in playlist\n",
    "\n",
    "playlist_items = sp.playlist_tracks(playlist_id=playlist_id)[\"items\"]\n",
    "\n",
    "for item in playlist_items:\n",
    "    playlist_tracks.append(item[\"track\"][\"id\"]) #list of all the track ids in the playlist\n",
    "\n",
    "for rec_track in rec_track_ids:\n",
    "    if rec_track in playlist_tracks:\n",
    "        rec_track_ids.remove(rec_track)"
   ]
  },
  {
   "cell_type": "code",
   "execution_count": 14,
   "metadata": {},
   "outputs": [
    {
     "output_type": "execute_result",
     "data": {
      "text/plain": [
       "{'snapshot_id': 'OTMsNThkYjcwODFjZTRjZDMwYzFkNjMxMWIxY2QwYTVmMmJiZWYyODYxYQ=='}"
      ]
     },
     "metadata": {},
     "execution_count": 14
    }
   ],
   "source": [
    "sp.user_playlist_add_tracks(user=username, playlist_id=playlist_id, tracks=rec_track_ids)"
   ]
  },
  {
   "cell_type": "code",
   "execution_count": null,
   "metadata": {},
   "outputs": [],
   "source": []
  }
 ]
}