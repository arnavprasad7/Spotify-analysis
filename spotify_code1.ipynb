{
 "metadata": {
  "language_info": {
   "codemirror_mode": {
    "name": "ipython",
    "version": 3
   },
   "file_extension": ".py",
   "mimetype": "text/x-python",
   "name": "python",
   "nbconvert_exporter": "python",
   "pygments_lexer": "ipython3",
   "version": "3.8.3-final"
  },
  "orig_nbformat": 2,
  "kernelspec": {
   "name": "python3",
   "display_name": "Python 3"
  }
 },
 "nbformat": 4,
 "nbformat_minor": 2,
 "cells": [
  {
   "cell_type": "code",
   "execution_count": 13,
   "metadata": {},
   "outputs": [],
   "source": [
    "import spotipy\n",
    "from spotipy.oauth2 import SpotifyOAuth\n",
    "import spotipy.util as util\n",
    "import pandas as pd\n",
    "import matplotlib.pyplot as plt\n",
    "import seaborn as sns\n",
    "from IPython.display import clear_output, display\n",
    "sns.set()"
   ]
  },
  {
   "cell_type": "code",
   "execution_count": 14,
   "metadata": {},
   "outputs": [],
   "source": [
    "#Import client_id, client_secret, etc from external .json file (to keep user details out of the .ipynb file).\n",
    "df = pd.read_json(\"/Users/arnavprasad/Google Drive/Documents/Coding/Spotify/auth_details.json\", typ=\"series\")\n",
    "\n",
    "username = \"arnav7\"\n",
    "client_id = df[\"client_id\"]\n",
    "client_secret = df[\"client_secret\"]\n",
    "redirect_uri = df[\"redirect_uri\"]"
   ]
  },
  {
   "cell_type": "code",
   "execution_count": 15,
   "metadata": {},
   "outputs": [],
   "source": [
    "scope = \"user-top-read playlist-modify-public\" #define your desired goal(s)"
   ]
  },
  {
   "cell_type": "code",
   "execution_count": 16,
   "metadata": {},
   "outputs": [],
   "source": [
    "token = util.prompt_for_user_token(username=username, \n",
    "                                   scope=scope, \n",
    "                                   client_id=client_id,   \n",
    "                                   client_secret=client_secret,     \n",
    "                                   redirect_uri=redirect_uri)"
   ]
  },
  {
   "cell_type": "code",
   "execution_count": 17,
   "metadata": {},
   "outputs": [],
   "source": [
    "sp = spotipy.Spotify(auth=token)"
   ]
  },
  {
   "cell_type": "code",
   "execution_count": 18,
   "metadata": {},
   "outputs": [],
   "source": [
    "features = [\"danceability\", \"energy\", \"loudness\", \"acousticness\", \"instrumentalness\", \"liveness\", \"tempo\"]\n",
    "\n",
    "#Function to return a simplified dictionary with only the required data\n",
    "\n",
    "def track_info(song_dict, audio_features=False):\n",
    "    \"\"\"\n",
    "    Returns all the necessary information about a song and removes the rest.\n",
    "\n",
    "    Input:\n",
    "    song_dict: a dictionary that contains all the information about a song (not all of which is necessary for our purposes).\n",
    "\n",
    "    Outputs:\n",
    "    track_info: simplified dictionary, with keys\n",
    "    - track_name\n",
    "    - track_id\n",
    "    - artist\n",
    "    - album\n",
    "    - duration\n",
    "    - popularity\n",
    "    - if audio_features==True, also returns the song's \"audio features\" as defined by Spotify\n",
    "    \"\"\"\n",
    "\n",
    "    track_data = {}\n",
    "\n",
    "    track_data[\"track_name\"] = song_dict[\"name\"]\n",
    "    track_data[\"artist\"] = song_dict[\"artists\"][0][\"name\"]\n",
    "    track_data[\"album\"] = song_dict[\"album\"][\"name\"]\n",
    "    track_data[\"track_id\"] = song_dict[\"id\"]\n",
    "    track_data[\"duration_ms\"] = song_dict[\"duration_ms\"]\n",
    "    track_data[\"popularity\"] = song_dict[\"popularity\"]\n",
    "\n",
    "    if audio_features == True:\n",
    "        for feature in features:\n",
    "            track_data[feature] = sp.audio_features(tracks=[song_dict[\"id\"]])[0][feature]\n",
    "        \n",
    "    return track_data\n",
    "\n",
    "\n",
    "#Function to display search results\n",
    "def search_results(query, limit=5, audio_features=False):\n",
    "    \"\"\"\n",
    "    Organise and display search results.\n",
    "    \"\"\"\n",
    "    results = sp.search(query, limit=limit)[\"tracks\"][\"items\"] #list of all the search results, as dictionaries\n",
    "\n",
    "    search_rows = []\n",
    "\n",
    "    for track in results:\n",
    "        search_rows.append(track_info(track, audio_features=audio_features)) #append only the required information\n",
    "\n",
    "    search_df = pd.DataFrame.from_dict(search_rows)\n",
    "\n",
    "    return search_df\n",
    "\n"
   ]
  },
  {
   "cell_type": "code",
   "execution_count": 19,
   "metadata": {},
   "outputs": [
    {
     "output_type": "stream",
     "name": "stdout",
     "text": [
      "short_term\n",
      "\n",
      "1 Does It Make You Feel Good? // Joesef\n",
      "2 Old Fashioned // Bruno Major\n",
      "3 Karma Police // Scary Pockets\n",
      "4 Out Of My Head // Mac DeMarco\n",
      "5 I Wonder Why // Joesef\n",
      "6 New York, New York (Live) // Jon Batiste\n",
      "7 With Love To An Ex (feat. Moonchild Sanelly) // Gorillaz\n",
      "8 Something // Vulfpeck\n",
      "9 MLS (feat. JPEGMAFIA and CHAI) // Gorillaz\n",
      "10 The Recipe // SiR\n",
      "\n",
      "\n",
      "medium_term\n",
      "\n",
      "1 Herside Story // GoldLink\n",
      "2 Tribe (with J. Cole) // Bas\n",
      "3 If You’re Too Shy (Let Me Know) // The 1975\n",
      "4 Sunblind // Fleet Foxes\n",
      "5 Out Of My Head // Mac DeMarco\n",
      "6 The Tracks Of My Tears // Smokey Robinson & The Miracles\n",
      "7 Great Dane - Radio Edit // Cosmo Pyke\n",
      "8 The Recipe // SiR\n",
      "9 CUT EM IN (feat. Rick Ross) // Anderson .Paak\n",
      "10 Baguetti (with JID & Kenny Beats) // Smino\n",
      "\n",
      "\n",
      "long_term\n",
      "\n",
      "1 Freaking Out the Neighborhood // Mac DeMarco\n",
      "2 Waitin' On The Day // John Mayer\n",
      "3 If I Ever Get Around To Living // John Mayer\n",
      "4 Still Beating // Mac DeMarco\n",
      "5 SUGAR // BROCKHAMPTON\n",
      "6 My 1-Bedroom // Theo Katzman\n",
      "7 What Did You Mean (When You Said Love) // Theo Katzman\n",
      "8 Love Is a Beautiful Thing // Vulfpeck\n",
      "9 Called To Tell You // Theo Katzman\n",
      "10 Back Pocket // Vulfpeck\n",
      "\n",
      "\n"
     ]
    }
   ],
   "source": [
    "#Print out your top songs over three different time periods\n",
    "\n",
    "ranges = [\"short_term\", \"medium_term\", \"long_term\"]\n",
    "\n",
    "for sp_range in ranges:\n",
    "    print(sp_range + \"\\n\")\n",
    "    results = sp.current_user_top_tracks(time_range=sp_range, limit=10)\n",
    "    for i, item in enumerate(results[\"items\"]):\n",
    "        print(str(i+1) + \" \" + item[\"name\"] + \" // \" + item[\"artists\"][0][\"name\"])\n",
    "    print(\"\\n\")\n"
   ]
  },
  {
   "cell_type": "code",
   "execution_count": 20,
   "metadata": {},
   "outputs": [],
   "source": [
    "#Search for seed songs\n",
    "\n",
    "#if you want to include the seed songs in the playlist\n",
    "include_seeds = False\n",
    "\n",
    "seeds = []\n",
    "\n",
    "seed_rows = []\n",
    "\n",
    "n = int(input(\"How many songs do you want in your playlist?\"))\n",
    "\n",
    "#Generate seed list\n",
    "for i in range(5):\n",
    "\n",
    "    if i == 0:\n",
    "        search_term = input(\"First seed track: \")\n",
    "        \n",
    "        results = search_results(search_term)\n",
    "        display(results[[\"track_name\", \"artist\", \"album\"]]) #display concise version of search results\n",
    "\n",
    "        index = int(input(\"Select the index of the track you want (indexing starts from zero): \")) #choose which song you want\n",
    "\n",
    "        track = results.loc[index]\n",
    "\n",
    "        clear_output()\n",
    "\n",
    "        seeds.append(track[\"track_id\"])\n",
    "        seed_rows.append(track)\n",
    "    \n",
    "    else:\n",
    "        cont = int(input(\"Enter 1 if you want to continue, and 0 if not: \"))\n",
    "\n",
    "        if cont == 1:\n",
    "\n",
    "            search_term = input(\"Next seed track: \")\n",
    "\n",
    "            results = search_results(search_term)\n",
    "            display(results[[\"track_name\", \"artist\", \"album\"]])\n",
    "\n",
    "            index = int(input(\"Select the index of the track you want (indexing starts from zero): \"))\n",
    "\n",
    "            track = results.loc[index]\n",
    "\n",
    "            clear_output()\n",
    "\n",
    "            seeds.append(track[\"track_id\"])\n",
    "            seed_rows.append(track)\n",
    "        else:\n",
    "            break\n",
    "\n",
    "seed_songs = pd.DataFrame.from_dict(seed_rows) #DataFrame for seed songs\n",
    "\n",
    "results = sp.recommendations(seed_tracks=seeds, limit=n)[\"tracks\"]\n",
    "rec_rows = []\n",
    "\n",
    "for track in results:\n",
    "    rec_rows.append(track_info(track))\n",
    "\n",
    "search_recs = pd.DataFrame.from_dict(rec_rows) #DataFrame for recommendation playlist\n",
    "\n",
    "\n",
    "if include_seeds==True:\n",
    "    search_recs = seed_songs.append(search_recs, ignore_index=True)"
   ]
  },
  {
   "cell_type": "code",
   "execution_count": 21,
   "metadata": {},
   "outputs": [
    {
     "output_type": "execute_result",
     "data": {
      "text/plain": [
       "    track_name        artist               album  popularity\n",
       "0     Dark Red    Steve Lacy            Dark Red          73\n",
       "0  Back Pocket      Vulfpeck  Thrill of the Arts          63\n",
       "0       BLEACH  BROCKHAMPTON      SATURATION III          75\n",
       "0         1999        Prince                1999          67\n",
       "0        Movie     Tom Misch           Geography          67"
      ],
      "text/html": "<div>\n<style scoped>\n    .dataframe tbody tr th:only-of-type {\n        vertical-align: middle;\n    }\n\n    .dataframe tbody tr th {\n        vertical-align: top;\n    }\n\n    .dataframe thead th {\n        text-align: right;\n    }\n</style>\n<table border=\"1\" class=\"dataframe\">\n  <thead>\n    <tr style=\"text-align: right;\">\n      <th></th>\n      <th>track_name</th>\n      <th>artist</th>\n      <th>album</th>\n      <th>popularity</th>\n    </tr>\n  </thead>\n  <tbody>\n    <tr>\n      <th>0</th>\n      <td>Dark Red</td>\n      <td>Steve Lacy</td>\n      <td>Dark Red</td>\n      <td>73</td>\n    </tr>\n    <tr>\n      <th>0</th>\n      <td>Back Pocket</td>\n      <td>Vulfpeck</td>\n      <td>Thrill of the Arts</td>\n      <td>63</td>\n    </tr>\n    <tr>\n      <th>0</th>\n      <td>BLEACH</td>\n      <td>BROCKHAMPTON</td>\n      <td>SATURATION III</td>\n      <td>75</td>\n    </tr>\n    <tr>\n      <th>0</th>\n      <td>1999</td>\n      <td>Prince</td>\n      <td>1999</td>\n      <td>67</td>\n    </tr>\n    <tr>\n      <th>0</th>\n      <td>Movie</td>\n      <td>Tom Misch</td>\n      <td>Geography</td>\n      <td>67</td>\n    </tr>\n  </tbody>\n</table>\n</div>"
     },
     "metadata": {},
     "execution_count": 21
    }
   ],
   "source": [
    "#Check to verify your seed songs\n",
    "seed_songs[[\"track_name\", \"artist\", \"album\", \"popularity\"]]"
   ]
  },
  {
   "cell_type": "code",
   "execution_count": 22,
   "metadata": {},
   "outputs": [
    {
     "output_type": "execute_result",
     "data": {
      "text/plain": [
       "                          track_name                           artist  \\\n",
       "0                     Look At Me Now                       Emily King   \n",
       "1                             Freaks                       Surf Curse   \n",
       "2                           Number 9                       Moon Hooch   \n",
       "3                           Provider                      Frank Ocean   \n",
       "4   Love Galore (feat. Travis Scott)                              SZA   \n",
       "5              Feel Like Makin' Love                         D'Angelo   \n",
       "6                       I'm Your Man                            Wham!   \n",
       "7                      American Girl  Tom Petty and the Heartbreakers   \n",
       "8                            Hold On                   Alabama Shakes   \n",
       "9                              SUGAR                     BROCKHAMPTON   \n",
       "10  Hair Down (feat. Kendrick Lamar)                              SiR   \n",
       "11                 Got To Give It Up                      Marvin Gaye   \n",
       "12                  Chronic Sunshine                       Cosmo Pyke   \n",
       "13                       Billie Jean                  Michael Jackson   \n",
       "14                     Turnin' Me Up               BJ The Chicago Kid   \n",
       "\n",
       "                               album  popularity  \n",
       "0                            Scenery          44  \n",
       "1                               Buds          70  \n",
       "2                         Moon Hooch          44  \n",
       "3                           Provider          65  \n",
       "4                               Ctrl          78  \n",
       "5                             Voodoo          58  \n",
       "6                          The Final          62  \n",
       "7      Tom Petty & The Heartbreakers          75  \n",
       "8                       Boys & Girls          59  \n",
       "9                             GINGER          81  \n",
       "10                    Chasing Summer          69  \n",
       "11                         Favorites          55  \n",
       "12                  Chronic Sunshine          60  \n",
       "13  Thriller 25 Super Deluxe Edition          83  \n",
       "14                        In My Mind          63  "
      ],
      "text/html": "<div>\n<style scoped>\n    .dataframe tbody tr th:only-of-type {\n        vertical-align: middle;\n    }\n\n    .dataframe tbody tr th {\n        vertical-align: top;\n    }\n\n    .dataframe thead th {\n        text-align: right;\n    }\n</style>\n<table border=\"1\" class=\"dataframe\">\n  <thead>\n    <tr style=\"text-align: right;\">\n      <th></th>\n      <th>track_name</th>\n      <th>artist</th>\n      <th>album</th>\n      <th>popularity</th>\n    </tr>\n  </thead>\n  <tbody>\n    <tr>\n      <th>0</th>\n      <td>Look At Me Now</td>\n      <td>Emily King</td>\n      <td>Scenery</td>\n      <td>44</td>\n    </tr>\n    <tr>\n      <th>1</th>\n      <td>Freaks</td>\n      <td>Surf Curse</td>\n      <td>Buds</td>\n      <td>70</td>\n    </tr>\n    <tr>\n      <th>2</th>\n      <td>Number 9</td>\n      <td>Moon Hooch</td>\n      <td>Moon Hooch</td>\n      <td>44</td>\n    </tr>\n    <tr>\n      <th>3</th>\n      <td>Provider</td>\n      <td>Frank Ocean</td>\n      <td>Provider</td>\n      <td>65</td>\n    </tr>\n    <tr>\n      <th>4</th>\n      <td>Love Galore (feat. Travis Scott)</td>\n      <td>SZA</td>\n      <td>Ctrl</td>\n      <td>78</td>\n    </tr>\n    <tr>\n      <th>5</th>\n      <td>Feel Like Makin' Love</td>\n      <td>D'Angelo</td>\n      <td>Voodoo</td>\n      <td>58</td>\n    </tr>\n    <tr>\n      <th>6</th>\n      <td>I'm Your Man</td>\n      <td>Wham!</td>\n      <td>The Final</td>\n      <td>62</td>\n    </tr>\n    <tr>\n      <th>7</th>\n      <td>American Girl</td>\n      <td>Tom Petty and the Heartbreakers</td>\n      <td>Tom Petty &amp; The Heartbreakers</td>\n      <td>75</td>\n    </tr>\n    <tr>\n      <th>8</th>\n      <td>Hold On</td>\n      <td>Alabama Shakes</td>\n      <td>Boys &amp; Girls</td>\n      <td>59</td>\n    </tr>\n    <tr>\n      <th>9</th>\n      <td>SUGAR</td>\n      <td>BROCKHAMPTON</td>\n      <td>GINGER</td>\n      <td>81</td>\n    </tr>\n    <tr>\n      <th>10</th>\n      <td>Hair Down (feat. Kendrick Lamar)</td>\n      <td>SiR</td>\n      <td>Chasing Summer</td>\n      <td>69</td>\n    </tr>\n    <tr>\n      <th>11</th>\n      <td>Got To Give It Up</td>\n      <td>Marvin Gaye</td>\n      <td>Favorites</td>\n      <td>55</td>\n    </tr>\n    <tr>\n      <th>12</th>\n      <td>Chronic Sunshine</td>\n      <td>Cosmo Pyke</td>\n      <td>Chronic Sunshine</td>\n      <td>60</td>\n    </tr>\n    <tr>\n      <th>13</th>\n      <td>Billie Jean</td>\n      <td>Michael Jackson</td>\n      <td>Thriller 25 Super Deluxe Edition</td>\n      <td>83</td>\n    </tr>\n    <tr>\n      <th>14</th>\n      <td>Turnin' Me Up</td>\n      <td>BJ The Chicago Kid</td>\n      <td>In My Mind</td>\n      <td>63</td>\n    </tr>\n  </tbody>\n</table>\n</div>"
     },
     "metadata": {},
     "execution_count": 22
    }
   ],
   "source": [
    "#Look at the generated playlist\n",
    "search_recs[[\"track_name\", \"artist\", \"album\", \"popularity\"]]"
   ]
  },
  {
   "cell_type": "code",
   "execution_count": 24,
   "metadata": {},
   "outputs": [],
   "source": [
    "#Create list with only the track ids\n",
    "rec_track_ids = list(search_recs[\"track_id\"])"
   ]
  },
  {
   "cell_type": "code",
   "execution_count": 26,
   "metadata": {},
   "outputs": [],
   "source": [
    "#The URI for the playlist\n",
    "playlist_id = \"3pRiSIEh2iQEihpRoTmbDL\"\n",
    "\n",
    "#Make sure you don't add any duplicates\n",
    "\n",
    "playlist_tracks = [] #tracks already in playlist\n",
    "\n",
    "playlist_items = sp.playlist_tracks(playlist_id=playlist_id)[\"items\"]\n",
    "\n",
    "for item in playlist_items:\n",
    "    playlist_tracks.append(item[\"track\"][\"id\"]) #list of all the track ids in the playlist\n",
    "\n",
    "for rec_track in rec_track_ids:\n",
    "    if rec_track in playlist_tracks:\n",
    "        rec_track_ids.remove(rec_track)"
   ]
  },
  {
   "cell_type": "code",
   "execution_count": 27,
   "metadata": {},
   "outputs": [
    {
     "output_type": "execute_result",
     "data": {
      "text/plain": [
       "{'snapshot_id': 'MTUsN2Y4M2I4ODdiODMzNTRlNmQ3YTVhNDVkZDY3YjRkZjQ3YTcyYzMyOA=='}"
      ]
     },
     "metadata": {},
     "execution_count": 27
    }
   ],
   "source": [
    "sp.user_playlist_add_tracks(user=username, playlist_id=playlist_id, tracks=rec_track_ids)"
   ]
  }
 ]
}