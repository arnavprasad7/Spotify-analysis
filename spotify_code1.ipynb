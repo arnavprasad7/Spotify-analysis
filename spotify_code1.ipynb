{
 "metadata": {
  "language_info": {
   "codemirror_mode": {
    "name": "ipython",
    "version": 3
   },
   "file_extension": ".py",
   "mimetype": "text/x-python",
   "name": "python",
   "nbconvert_exporter": "python",
   "pygments_lexer": "ipython3",
   "version": "3.8.3-final"
  },
  "orig_nbformat": 2,
  "kernelspec": {
   "name": "python3",
   "display_name": "Python 3"
  }
 },
 "nbformat": 4,
 "nbformat_minor": 2,
 "cells": [
  {
   "cell_type": "code",
   "execution_count": 1,
   "metadata": {},
   "outputs": [],
   "source": [
    "import spotipy\n",
    "from spotipy.oauth2 import SpotifyOAuth\n",
    "import spotipy.util as util\n",
    "import pandas as pd\n",
    "import matplotlib.pyplot as plt\n",
    "import seaborn as sns\n",
    "sns.set()"
   ]
  },
  {
   "cell_type": "code",
   "execution_count": 4,
   "metadata": {},
   "outputs": [],
   "source": [
    "#Import client_id, client_secret, etc from external .json file (to keep user details out of the .ipynb file).\n",
    "df = pd.read_json(\"/Users/arnavprasad/Google Drive/Documents/Coding/Spotify/auth_details.json\", typ=\"series\")\n",
    "\n",
    "username = df[\"username\"]\n",
    "client_id = df[\"client_id\"]\n",
    "client_secret = df[\"client_secret\"]\n",
    "redirect_uri = df[\"redirect_uri\"]"
   ]
  },
  {
   "cell_type": "code",
   "execution_count": 5,
   "metadata": {},
   "outputs": [],
   "source": [
    "scope = \"user-top-read\" #define your desired goal"
   ]
  },
  {
   "cell_type": "code",
   "execution_count": 6,
   "metadata": {},
   "outputs": [
    {
     "output_type": "stream",
     "name": "stderr",
     "text": [
      "Couldn't read cache at: .cache-arnav7\n",
      "Couldn't read cache at: .cache-arnav7\n",
      "Couldn't write token to cache at: .cache-arnav7\n"
     ]
    }
   ],
   "source": [
    "token = util.prompt_for_user_token(username=username, \n",
    "                                   scope=scope, \n",
    "                                   client_id=client_id,   \n",
    "                                   client_secret=client_secret,     \n",
    "                                   redirect_uri=redirect_uri)"
   ]
  },
  {
   "cell_type": "code",
   "execution_count": 7,
   "metadata": {},
   "outputs": [],
   "source": [
    "sp = spotipy.Spotify(auth=token)"
   ]
  },
  {
   "cell_type": "code",
   "execution_count": 8,
   "metadata": {},
   "outputs": [
    {
     "output_type": "stream",
     "name": "stdout",
     "text": [
      "short_term\n",
      "\n",
      "1 Does It Make You Feel Good? // Joesef\n",
      "2 Out Of My Head // Mac DeMarco\n",
      "3 Old Fashioned // Bruno Major\n",
      "4 Karma Police // Scary Pockets\n",
      "5 I Wonder Why // Joesef\n",
      "6 New York, New York (Live) // Jon Batiste\n",
      "7 With Love To An Ex (feat. Moonchild Sanelly) // Gorillaz\n",
      "8 Something // Vulfpeck\n",
      "9 MLS (feat. JPEGMAFIA and CHAI) // Gorillaz\n",
      "10 The Recipe // SiR\n",
      "\n",
      "\n",
      "medium_term\n",
      "\n",
      "1 Herside Story // GoldLink\n",
      "2 Tribe (with J. Cole) // Bas\n",
      "3 If You’re Too Shy (Let Me Know) // The 1975\n",
      "4 Sunblind // Fleet Foxes\n",
      "5 Out Of My Head // Mac DeMarco\n",
      "6 The Tracks Of My Tears // Smokey Robinson & The Miracles\n",
      "7 The Recipe // SiR\n",
      "8 Great Dane - Radio Edit // Cosmo Pyke\n",
      "9 CUT EM IN (feat. Rick Ross) // Anderson .Paak\n",
      "10 Baguetti (with JID & Kenny Beats) // Smino\n",
      "\n",
      "\n",
      "long_term\n",
      "\n",
      "1 Freaking Out the Neighborhood // Mac DeMarco\n",
      "2 If I Ever Get Around To Living // John Mayer\n",
      "3 Waitin' On The Day // John Mayer\n",
      "4 Still Beating // Mac DeMarco\n",
      "5 My 1-Bedroom // Theo Katzman\n",
      "6 SUGAR // BROCKHAMPTON\n",
      "7 What Did You Mean (When You Said Love) // Theo Katzman\n",
      "8 Love Is a Beautiful Thing // Vulfpeck\n",
      "9 Called To Tell You // Theo Katzman\n",
      "10 Back Pocket // Vulfpeck\n",
      "\n",
      "\n"
     ]
    }
   ],
   "source": [
    "ranges = [\"short_term\", \"medium_term\", \"long_term\"]\n",
    "\n",
    "for sp_range in ranges:\n",
    "    print(sp_range + \"\\n\")\n",
    "    results = sp.current_user_top_tracks(time_range=sp_range, limit=10)\n",
    "    for i, item in enumerate(results[\"items\"]):\n",
    "        print(str(i+1) + \" \" + item[\"name\"] + \" // \" + item[\"artists\"][0][\"name\"])\n",
    "    print(\"\\n\")\n"
   ]
  },
  {
   "cell_type": "code",
   "execution_count": 10,
   "metadata": {},
   "outputs": [],
   "source": [
    "alltime = sp.current_user_top_tracks(time_range=\"long_term\", limit=50)[\"items\"]"
   ]
  },
  {
   "cell_type": "code",
   "execution_count": 11,
   "metadata": {},
   "outputs": [],
   "source": [
    "df = pd.DataFrame({\"Track name\":[], \"Track ID\":[], \"popularity\":[]})"
   ]
  },
  {
   "cell_type": "code",
   "execution_count": 12,
   "metadata": {},
   "outputs": [
    {
     "output_type": "execute_result",
     "data": {
      "text/plain": [
       "dict_keys(['album', 'artists', 'available_markets', 'disc_number', 'duration_ms', 'explicit', 'external_ids', 'external_urls', 'href', 'id', 'is_local', 'name', 'popularity', 'preview_url', 'track_number', 'type', 'uri'])"
      ]
     },
     "metadata": {},
     "execution_count": 12
    }
   ],
   "source": [
    "alltime[0].keys()"
   ]
  },
  {
   "cell_type": "code",
   "execution_count": 13,
   "metadata": {},
   "outputs": [],
   "source": [
    "for i, track in enumerate(alltime):\n",
    "    df.loc[i] = [track[\"name\"], track[\"id\"], track[\"popularity\"]]"
   ]
  },
  {
   "cell_type": "code",
   "execution_count": 14,
   "metadata": {},
   "outputs": [
    {
     "output_type": "execute_result",
     "data": {
      "text/plain": [
       "                       Track name                Track ID  popularity\n",
       "0   Freaking Out the Neighborhood  25SJaCCPiosugnlY53VhRG        73.0\n",
       "1  If I Ever Get Around To Living  6Oi3mUl8WwfTVRqEwByZ7R        50.0\n",
       "2              Waitin' On The Day  58ImA5yX8b5UkLy9MDXwWO        57.0\n",
       "3                   Still Beating  2N4idqj9TT3HnH2OFT9j0v        68.0\n",
       "4                    My 1-Bedroom  1wkU8NjA4JzwszL61vCmnu        35.0"
      ],
      "text/html": "<div>\n<style scoped>\n    .dataframe tbody tr th:only-of-type {\n        vertical-align: middle;\n    }\n\n    .dataframe tbody tr th {\n        vertical-align: top;\n    }\n\n    .dataframe thead th {\n        text-align: right;\n    }\n</style>\n<table border=\"1\" class=\"dataframe\">\n  <thead>\n    <tr style=\"text-align: right;\">\n      <th></th>\n      <th>Track name</th>\n      <th>Track ID</th>\n      <th>popularity</th>\n    </tr>\n  </thead>\n  <tbody>\n    <tr>\n      <th>0</th>\n      <td>Freaking Out the Neighborhood</td>\n      <td>25SJaCCPiosugnlY53VhRG</td>\n      <td>73.0</td>\n    </tr>\n    <tr>\n      <th>1</th>\n      <td>If I Ever Get Around To Living</td>\n      <td>6Oi3mUl8WwfTVRqEwByZ7R</td>\n      <td>50.0</td>\n    </tr>\n    <tr>\n      <th>2</th>\n      <td>Waitin' On The Day</td>\n      <td>58ImA5yX8b5UkLy9MDXwWO</td>\n      <td>57.0</td>\n    </tr>\n    <tr>\n      <th>3</th>\n      <td>Still Beating</td>\n      <td>2N4idqj9TT3HnH2OFT9j0v</td>\n      <td>68.0</td>\n    </tr>\n    <tr>\n      <th>4</th>\n      <td>My 1-Bedroom</td>\n      <td>1wkU8NjA4JzwszL61vCmnu</td>\n      <td>35.0</td>\n    </tr>\n  </tbody>\n</table>\n</div>"
     },
     "metadata": {},
     "execution_count": 14
    }
   ],
   "source": [
    "df.head()"
   ]
  },
  {
   "cell_type": "code",
   "execution_count": 15,
   "metadata": {},
   "outputs": [],
   "source": [
    "test = df[\"Track ID\"][0]"
   ]
  },
  {
   "cell_type": "code",
   "execution_count": 16,
   "metadata": {},
   "outputs": [
    {
     "output_type": "execute_result",
     "data": {
      "text/plain": [
       "[{'danceability': 0.565,\n",
       "  'energy': 0.832,\n",
       "  'key': 8,\n",
       "  'loudness': -5.751,\n",
       "  'mode': 0,\n",
       "  'speechiness': 0.108,\n",
       "  'acousticness': 0.0639,\n",
       "  'instrumentalness': 0.0291,\n",
       "  'liveness': 0.386,\n",
       "  'valence': 0.847,\n",
       "  'tempo': 143.302,\n",
       "  'type': 'audio_features',\n",
       "  'id': '25SJaCCPiosugnlY53VhRG',\n",
       "  'uri': 'spotify:track:25SJaCCPiosugnlY53VhRG',\n",
       "  'track_href': 'https://api.spotify.com/v1/tracks/25SJaCCPiosugnlY53VhRG',\n",
       "  'analysis_url': 'https://api.spotify.com/v1/audio-analysis/25SJaCCPiosugnlY53VhRG',\n",
       "  'duration_ms': 173889,\n",
       "  'time_signature': 4}]"
      ]
     },
     "metadata": {},
     "execution_count": 16
    }
   ],
   "source": [
    "sp.audio_features(tracks=[test])"
   ]
  },
  {
   "cell_type": "code",
   "execution_count": 17,
   "metadata": {},
   "outputs": [],
   "source": [
    "features = [\"danceability\", \"energy\", \"loudness\", \"acousticness\", \"instrumentalness\", \"liveness\", \"tempo\"]\n",
    "\n",
    "for i in range(df.shape[0]):\n",
    "    track_id = df[\"Track ID\"][i]\n",
    "    feature_dictionary = sp.audio_features(tracks=[track_id])[0]\n",
    "    for feature in features:\n",
    "        df.loc[i, feature] = feature_dictionary[feature]"
   ]
  },
  {
   "cell_type": "code",
   "execution_count": 18,
   "metadata": {},
   "outputs": [
    {
     "output_type": "execute_result",
     "data": {
      "text/plain": [
       "                       Track name                Track ID  popularity  \\\n",
       "0   Freaking Out the Neighborhood  25SJaCCPiosugnlY53VhRG        73.0   \n",
       "1  If I Ever Get Around To Living  6Oi3mUl8WwfTVRqEwByZ7R        50.0   \n",
       "2              Waitin' On The Day  58ImA5yX8b5UkLy9MDXwWO        57.0   \n",
       "3                   Still Beating  2N4idqj9TT3HnH2OFT9j0v        68.0   \n",
       "4                    My 1-Bedroom  1wkU8NjA4JzwszL61vCmnu        35.0   \n",
       "\n",
       "   danceability  energy  loudness  acousticness  instrumentalness  liveness  \\\n",
       "0         0.565   0.832    -5.751        0.0639          0.029100     0.386   \n",
       "1         0.559   0.468   -12.738        0.5320          0.129000     0.257   \n",
       "2         0.656   0.438    -8.631        0.7970          0.052200     0.142   \n",
       "3         0.709   0.496   -10.528        0.5810          0.195000     0.151   \n",
       "4         0.552   0.323   -11.672        0.8080          0.000284     0.102   \n",
       "\n",
       "     tempo  \n",
       "0  143.302  \n",
       "1   80.014  \n",
       "2  119.996  \n",
       "3   78.477  \n",
       "4  176.514  "
      ],
      "text/html": "<div>\n<style scoped>\n    .dataframe tbody tr th:only-of-type {\n        vertical-align: middle;\n    }\n\n    .dataframe tbody tr th {\n        vertical-align: top;\n    }\n\n    .dataframe thead th {\n        text-align: right;\n    }\n</style>\n<table border=\"1\" class=\"dataframe\">\n  <thead>\n    <tr style=\"text-align: right;\">\n      <th></th>\n      <th>Track name</th>\n      <th>Track ID</th>\n      <th>popularity</th>\n      <th>danceability</th>\n      <th>energy</th>\n      <th>loudness</th>\n      <th>acousticness</th>\n      <th>instrumentalness</th>\n      <th>liveness</th>\n      <th>tempo</th>\n    </tr>\n  </thead>\n  <tbody>\n    <tr>\n      <th>0</th>\n      <td>Freaking Out the Neighborhood</td>\n      <td>25SJaCCPiosugnlY53VhRG</td>\n      <td>73.0</td>\n      <td>0.565</td>\n      <td>0.832</td>\n      <td>-5.751</td>\n      <td>0.0639</td>\n      <td>0.029100</td>\n      <td>0.386</td>\n      <td>143.302</td>\n    </tr>\n    <tr>\n      <th>1</th>\n      <td>If I Ever Get Around To Living</td>\n      <td>6Oi3mUl8WwfTVRqEwByZ7R</td>\n      <td>50.0</td>\n      <td>0.559</td>\n      <td>0.468</td>\n      <td>-12.738</td>\n      <td>0.5320</td>\n      <td>0.129000</td>\n      <td>0.257</td>\n      <td>80.014</td>\n    </tr>\n    <tr>\n      <th>2</th>\n      <td>Waitin' On The Day</td>\n      <td>58ImA5yX8b5UkLy9MDXwWO</td>\n      <td>57.0</td>\n      <td>0.656</td>\n      <td>0.438</td>\n      <td>-8.631</td>\n      <td>0.7970</td>\n      <td>0.052200</td>\n      <td>0.142</td>\n      <td>119.996</td>\n    </tr>\n    <tr>\n      <th>3</th>\n      <td>Still Beating</td>\n      <td>2N4idqj9TT3HnH2OFT9j0v</td>\n      <td>68.0</td>\n      <td>0.709</td>\n      <td>0.496</td>\n      <td>-10.528</td>\n      <td>0.5810</td>\n      <td>0.195000</td>\n      <td>0.151</td>\n      <td>78.477</td>\n    </tr>\n    <tr>\n      <th>4</th>\n      <td>My 1-Bedroom</td>\n      <td>1wkU8NjA4JzwszL61vCmnu</td>\n      <td>35.0</td>\n      <td>0.552</td>\n      <td>0.323</td>\n      <td>-11.672</td>\n      <td>0.8080</td>\n      <td>0.000284</td>\n      <td>0.102</td>\n      <td>176.514</td>\n    </tr>\n  </tbody>\n</table>\n</div>"
     },
     "metadata": {},
     "execution_count": 18
    }
   ],
   "source": [
    "df.head()"
   ]
  },
  {
   "cell_type": "code",
   "execution_count": 19,
   "metadata": {},
   "outputs": [
    {
     "output_type": "execute_result",
     "data": {
      "text/plain": [
       "Text(0.5, 1.0, \"Arnav's 50 all-time top tracks: tempos\")"
      ]
     },
     "metadata": {},
     "execution_count": 19
    },
    {
     "output_type": "display_data",
     "data": {
      "text/plain": "<Figure size 432x288 with 1 Axes>",
      "image/png": "[encoded data removed]"
     },
     "metadata": {}
    }
   ],
   "source": [
    "plt.figure()\n",
    "plt.hist(df[\"tempo\"])\n",
    "plt.xlabel(\"Tempo / bpm\")\n",
    "plt.ylabel(\"Frequency\")\n",
    "plt.title(\"Arnav's 50 all-time top tracks: tempos\")"
   ]
  },
  {
   "cell_type": "code",
   "execution_count": 20,
   "metadata": {},
   "outputs": [
    {
     "output_type": "display_data",
     "data": {
      "text/plain": "<Figure size 432x288 with 9 Axes>",
      "image/png": "[encoded data removed]"
     },
     "metadata": {}
    }
   ],
   "source": [
    "df.hist(xlabelsize=0);"
   ]
  },
  {
   "cell_type": "code",
   "execution_count": 21,
   "metadata": {},
   "outputs": [
    {
     "output_type": "execute_result",
     "data": {
      "text/plain": [
       "<matplotlib.axes._subplots.AxesSubplot at 0x7fdd86fea7c0>"
      ]
     },
     "metadata": {},
     "execution_count": 21
    },
    {
     "output_type": "display_data",
     "data": {
      "text/plain": "<Figure size 432x288 with 2 Axes>",
      "image/png": "[encoded data removed]"
     },
     "metadata": {}
    }
   ],
   "source": [
    "sns.heatmap(df.corr(), cmap=plt.cm.get_cmap(\"RdBu\"))"
   ]
  },
  {
   "cell_type": "code",
   "execution_count": null,
   "metadata": {},
   "outputs": [],
   "source": []
  }
 ]
}